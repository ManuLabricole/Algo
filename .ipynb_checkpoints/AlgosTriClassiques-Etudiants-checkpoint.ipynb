{
 "cells": [
  {
   "cell_type": "markdown",
   "metadata": {},
   "source": [
    "# 0 Mise en place des fonctions de travail "
   ]
  },
  {
   "cell_type": "code",
   "execution_count": 5,
   "metadata": {},
   "outputs": [],
   "source": [
    "import random\n",
    "\n",
    "def u_array(debug=False, N=21):\n",
    "    \"\"\"\n",
    "    Retourne un tableau non trie avec des valeur de 1 <= i < N .\n",
    "    Par defaut un tableau  1 <= i < 21\n",
    "    \n",
    "    Pour tester vos algorithmes, vous pouvez passer l'argument debug=True\n",
    "    dans ce cas, l'algorithme vous donne toujour le meme tableau :\n",
    "    \n",
    "    [3, 9, 7, 1, 6, 2, 8, 4, 5]\n",
    "    \n",
    "    \"\"\"\n",
    "    if debug:\n",
    "        return [3, 9, 7, 1, 6, 2, 8, 4, 5]\n",
    "    \n",
    "    array = list(range(1,N))\n",
    "    random.shuffle(array)\n",
    "\n",
    "    return array"
   ]
  },
  {
   "cell_type": "code",
   "execution_count": 6,
   "metadata": {},
   "outputs": [
    {
     "name": "stdout",
     "output_type": "stream",
     "text": [
      "[12, 7, 1, 17, 19, 11, 5, 18, 14, 20, 15, 2, 16, 10, 6, 9, 8, 3, 13, 4]\n",
      "[3, 9, 7, 1, 6, 2, 8, 4, 5]\n",
      "[3, 23, 1, 11, 28, 7, 9, 18, 29, 19, 20, 12, 15, 22, 14, 21, 24, 16, 26, 10, 17, 25, 4, 5, 2, 6, 27, 30, 8, 13]\n"
     ]
    }
   ],
   "source": [
    "# Exemple d'utilisation de la fonction precedente\n",
    "\n",
    "print(u_array()) # Retourne un tableau avec des nombres naturels allant de 1 a 20\n",
    "print(u_array(True)) # Retourne le tableau [3, 9, 7, 1, 6, 2, 8, 4, 5]\n",
    "print(u_array(N=31)) # Des nombres naturels allant de 1 a 30"
   ]
  },
  {
   "cell_type": "code",
   "execution_count": 75,
   "metadata": {},
   "outputs": [],
   "source": [
    "def swap(A, i, j):\n",
    "    # Store in multivariable assignement\n",
    "    #print(f\"Swap {A[i]} with {A[j]}\")\n",
    "    #print(A)\n",
    "    A[i], A[j] = A[j], A[i]\n",
    "    #print(A)"
   ]
  },
  {
   "cell_type": "code",
   "execution_count": 76,
   "metadata": {},
   "outputs": [
    {
     "name": "stdout",
     "output_type": "stream",
     "text": [
      "[3, 9, 7, 1, 6, 2, 8, 4, 5]\n"
     ]
    }
   ],
   "source": [
    "swap(u_array(True), 1, 4)\n",
    "print(u_array(True))"
   ]
  },
  {
   "cell_type": "markdown",
   "metadata": {},
   "source": [
    "# 1 Les tris classiques "
   ]
  },
  {
   "cell_type": "markdown",
   "metadata": {},
   "source": [
    "## 1.1 Tri à bulles"
   ]
  },
  {
   "cell_type": "markdown",
   "metadata": {},
   "source": [
    "**Un pseudocode possible** *(source : Wikipedia)*\n",
    "\n",
    "```\n",
    "procedure tri_à_bulles(Tableau T)\n",
    "   pour i allant de (taille de T)-1 à 1\n",
    "       pour j allant de 0 à i-1\n",
    "           si T[j+1] < T[j] alors\n",
    "               échanger(T[j+1], T[j])\n",
    "       fin pour\n",
    "   fin pour\n",
    "        \n",
    "```"
   ]
  },
  {
   "cell_type": "code",
   "execution_count": 77,
   "metadata": {},
   "outputs": [],
   "source": [
    "def is_sorted(A:list) -> bool:\n",
    "    is_sorted=True\n",
    "    for i in range(0, len(A)-1):\n",
    "        if not A[i+1] > A[i]:\n",
    "            is_sorted=False\n",
    "    return is_sorted"
   ]
  },
  {
   "cell_type": "code",
   "execution_count": 78,
   "metadata": {},
   "outputs": [],
   "source": [
    "def bubble(A):\n",
    "    \"\"\"\n",
    "    les grands valeurs remontent aux derniers position du tableau\n",
    "    comme des bulles d'air dans l'eau\n",
    "    \"\"\"\n",
    "    #print(f\"Before bubble : {A}\")\n",
    "    for i in range(len(A), 1, -1):\n",
    "        #print(f\"Main loop --> {i}\")\n",
    "        for j in range(0, i-1):\n",
    "            if A[j+1]<A[j]:\n",
    "                swap(A, j+1, j)\n",
    "    #print(f\"After bubble : {A}\")\n",
    "    print(f\"is_sorted => {is_sorted(A)}\")\n",
    "        "
   ]
  },
  {
   "cell_type": "code",
   "execution_count": 79,
   "metadata": {},
   "outputs": [
    {
     "name": "stdout",
     "output_type": "stream",
     "text": [
      "is_sorted => True\n"
     ]
    }
   ],
   "source": [
    "bubble(u_array(True))"
   ]
  },
  {
   "cell_type": "markdown",
   "metadata": {},
   "source": [
    "## 1.2 Insertion"
   ]
  },
  {
   "cell_type": "markdown",
   "metadata": {},
   "source": [
    "**Un pseudocode possible** *(source : Wikipedia)*\n",
    "\n",
    "```\n",
    "procédure tri_insertion(tableau T, entier n)\n",
    "\n",
    "  pour i de 1 à n - 1\n",
    "        # mémoriser T[i] dans x\n",
    "        x ← T[i]                            \n",
    "\n",
    "        j ← i                               \n",
    "        tant que j > 0 et T[j - 1] > x\n",
    "                 T[j] ← T[j - 1]\n",
    "                 j ← j - 1\n",
    "\n",
    "        # placer x dans le \"trou\" laissé par le décalage\n",
    "        T[j] ← x \n",
    "```"
   ]
  },
  {
   "cell_type": "code",
   "execution_count": 108,
   "metadata": {},
   "outputs": [],
   "source": [
    "def insertion(A):\n",
    "    \"\"\"\n",
    "    on cherche la place ou va etre positionne l'i_eme element \n",
    "    \"\"\"\n",
    "    print(f\"Before : {A}\")\n",
    "    for i in range(1, len(A)-1):\n",
    "        print(f\"------> i = {i}\")\n",
    "        x=A[i]\n",
    "        j=i        \n",
    "        \n",
    "        while (j>0 and A[j-1] > x):\n",
    "            print(f\"--- j = {j}\")\n",
    "            print((f\"Avant swap : {A}\")\n",
    "            swap(A, j, j-1)\n",
    "            j-=1\n",
    "            PRINT(f\"Avant swap : {A}\")\n",
    "\n",
    "        A[j]=A[i]\n",
    "    print(f\"After : {A}\")\n"
   ]
  },
  {
   "cell_type": "code",
   "execution_count": 107,
   "metadata": {},
   "outputs": [
    {
     "name": "stdout",
     "output_type": "stream",
     "text": [
      "Before : [3, 9, 7, 1, 6, 2, 8, 4, 5]\n",
      "---> i = 1\n",
      "---> i = 2\n",
      "2\n",
      "---> i = 3\n",
      "3\n",
      "2\n",
      "1\n",
      "---> i = 4\n",
      "4\n",
      "3\n",
      "---> i = 5\n",
      "5\n",
      "4\n",
      "3\n",
      "2\n",
      "1\n",
      "---> i = 6\n",
      "6\n",
      "5\n",
      "4\n",
      "---> i = 7\n",
      "7\n",
      "6\n",
      "5\n",
      "4\n",
      "After : [9, 9, 3, 9, 9, 9, 9, 9, 5]\n"
     ]
    }
   ],
   "source": [
    "insertion(u_array(True))"
   ]
  },
  {
   "cell_type": "markdown",
   "metadata": {},
   "source": [
    "## 1.3 Selection"
   ]
  },
  {
   "cell_type": "markdown",
   "metadata": {},
   "source": [
    "**Un pseudocode possible** *(source : Wikipedia)*\n",
    "\n",
    "```\n",
    "procédure tri_selection(tableau t, entier n)\n",
    "  pour i de 0 à n - 2\n",
    "      min ← i       \n",
    "      pour j de i + 1 à n - 1\n",
    "          si t[j] < t[min], alors min ← j\n",
    "      fin pour\n",
    "      si min ≠ i, alors échanger t[i] et t[min]\n",
    "  fin pour\n",
    "fin procédure\n",
    "```"
   ]
  },
  {
   "cell_type": "code",
   "execution_count": 28,
   "metadata": {},
   "outputs": [],
   "source": [
    "def selection(A):\n",
    "    \"\"\"\n",
    "    on cherche l'element qui doit se placer a l'i_eme place\n",
    "    \"\"\"\n",
    "    raise NotImplementedError"
   ]
  },
  {
   "cell_type": "code",
   "execution_count": 29,
   "metadata": {},
   "outputs": [
    {
     "data": {
      "text/plain": [
       "[1, 2, 3, 4, 5, 6, 7, 8, 9, 10, 11, 12, 13, 14, 15, 16, 17, 18, 19, 20]"
      ]
     },
     "execution_count": 29,
     "metadata": {},
     "output_type": "execute_result"
    }
   ],
   "source": [
    "selection(u_array())"
   ]
  }
 ],
 "metadata": {
  "kernelspec": {
   "display_name": "Python 3 (ipykernel)",
   "language": "python",
   "name": "python3"
  },
  "language_info": {
   "codemirror_mode": {
    "name": "ipython",
    "version": 3
   },
   "file_extension": ".py",
   "mimetype": "text/x-python",
   "name": "python",
   "nbconvert_exporter": "python",
   "pygments_lexer": "ipython3",
   "version": "3.9.13"
  }
 },
 "nbformat": 4,
 "nbformat_minor": 4
}
