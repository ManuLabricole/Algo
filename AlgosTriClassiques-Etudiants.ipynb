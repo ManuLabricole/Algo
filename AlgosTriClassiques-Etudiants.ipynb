{
 "cells": [
  {
   "cell_type": "markdown",
   "metadata": {},
   "source": [
    "# 0 Mise en place des fonctions de travail "
   ]
  },
  {
   "cell_type": "code",
   "execution_count": 1,
   "metadata": {},
   "outputs": [],
   "source": [
    "import random\n",
    "import timeit\n",
    "import matplotlib.pyplot as plt\n",
    "import numpy as np\n",
    "from statsmodels.nonparametric.kernel_regression import KernelReg\n",
    "\n",
    "# Import new magic commands\n",
    "%reload_ext line_profiler\n",
    "\n",
    "def u_array(debug=False, N=21):\n",
    "    \"\"\"\n",
    "    Retourne un tableau non trie avec des valeur de 1 <= i < N .\n",
    "    Par defaut un tableau  1 <= i < 21\n",
    "    \n",
    "    Pour tester vos algorithmes, vous pouvez passer l'argument debug=True\n",
    "    dans ce cas, l'algorithme vous donne toujour le meme tableau :\n",
    "    \n",
    "    [3, 9, 7, 1, 6, 2, 8, 4, 5]\n",
    "    \n",
    "    \"\"\"\n",
    "    if debug:\n",
    "        return [3, 9, 7, 1, 6, 2, 8, 4, 5]\n",
    "    \n",
    "    array = list(range(1,N))\n",
    "    random.shuffle(array)\n",
    "\n",
    "    return array"
   ]
  },
  {
   "cell_type": "code",
   "execution_count": 2,
   "metadata": {},
   "outputs": [
    {
     "name": "stdout",
     "output_type": "stream",
     "text": [
      "[10, 12, 14, 3, 2, 16, 17, 19, 6, 11, 4, 18, 7, 1, 13, 20, 5, 9, 15, 8]\n",
      "[3, 9, 7, 1, 6, 2, 8, 4, 5]\n",
      "[12, 26, 8, 17, 22, 14, 9, 2, 20, 1, 13, 29, 5, 3, 27, 21, 19, 24, 10, 7, 15, 6, 30, 23, 16, 18, 11, 28, 4, 25]\n"
     ]
    }
   ],
   "source": [
    "# Exemple d'utilisation de la fonction precedente\n",
    "\n",
    "print(u_array()) # Retourne un tableau avec des nombres naturels allant de 1 a 20\n",
    "print(u_array(True)) # Retourne le tableau [3, 9, 7, 1, 6, 2, 8, 4, 5]\n",
    "print(u_array(N=31)) # Des nombres naturels allant de 1 a 30"
   ]
  },
  {
   "cell_type": "code",
   "execution_count": 3,
   "metadata": {},
   "outputs": [],
   "source": [
    "def swap(A, i, j):\n",
    "    # Store in multivariable assignement\n",
    "    #print(f\"Swap {A[i]} with {A[j]}\")\n",
    "    #print(A)\n",
    "    A[i], A[j] = A[j], A[i]\n",
    "    #print(A)"
   ]
  },
  {
   "cell_type": "code",
   "execution_count": 4,
   "metadata": {},
   "outputs": [],
   "source": [
    "swap(u_array(True), 1, 4)\n",
    "# print(u_array(True))"
   ]
  },
  {
   "cell_type": "markdown",
   "metadata": {},
   "source": [
    "# 1 Les tris classiques "
   ]
  },
  {
   "cell_type": "markdown",
   "metadata": {},
   "source": [
    "## 1.1 Tri à bulles"
   ]
  },
  {
   "cell_type": "markdown",
   "metadata": {},
   "source": [
    "**Un pseudocode possible** *(source : Wikipedia)*\n",
    "\n",
    "```\n",
    "procedure tri_à_bulles(Tableau T)\n",
    "   pour i allant de (taille de T)-1 à 1\n",
    "       pour j allant de 0 à i-1\n",
    "           si T[j+1] < T[j] alors\n",
    "               échanger(T[j+1], T[j])\n",
    "       fin pour\n",
    "   fin pour\n",
    "        \n",
    "```"
   ]
  },
  {
   "cell_type": "code",
   "execution_count": 5,
   "metadata": {},
   "outputs": [],
   "source": [
    "def is_sorted(A:list) -> bool:\n",
    "    is_sorted=True\n",
    "    for i in range(0, len(A)-1):\n",
    "        if not A[i+1] > A[i]:\n",
    "            is_sorted=False\n",
    "    return is_sorted"
   ]
  },
  {
   "cell_type": "code",
   "execution_count": 23,
   "metadata": {},
   "outputs": [],
   "source": [
    "def bubble(A):\n",
    "    \"\"\"\n",
    "    les grands valeurs remontent aux derniers position du tableau\n",
    "    comme des bulles d'air dans l'eau\n",
    "    \"\"\"\n",
    "    #print(f\"Before bubble : {A}\")\n",
    "    for i in range(len(A)-1, 0, -1):\n",
    "        #print(f\"Main loop --> {i}\")\n",
    "        for j in range(0, i):\n",
    "            if A[j+1]<=A[j]:\n",
    "                swap(A, j+1, j)\n",
    "    #print(f\"After bubble : {A}\")\n",
    "    # print(f\"is_sorted => {is_sorted(A)}\")\n",
    "        "
   ]
  },
  {
   "cell_type": "code",
   "execution_count": 24,
   "metadata": {},
   "outputs": [
    {
     "ename": "ImportError",
     "evalue": "cannot import name 'swap' from 'utils' (/home/emmanuel.barriol@Digital-Grenoble.local/Documents/Algo/Algo/utils.py)",
     "output_type": "error",
     "traceback": [
      "\u001b[0;31m---------------------------------------------------------------------------\u001b[0m",
      "\u001b[0;31mImportError\u001b[0m                               Traceback (most recent call last)",
      "\u001b[0;32m/tmp/ipykernel_25566/360905698.py\u001b[0m in \u001b[0;36m<module>\u001b[0;34m\u001b[0m\n\u001b[0;32m----> 1\u001b[0;31m \u001b[0;32mfrom\u001b[0m \u001b[0msort_algo\u001b[0m \u001b[0;32mimport\u001b[0m \u001b[0mbubbleSort\u001b[0m\u001b[0;34m\u001b[0m\u001b[0;34m\u001b[0m\u001b[0m\n\u001b[0m\u001b[1;32m      2\u001b[0m \u001b[0;34m\u001b[0m\u001b[0m\n\u001b[1;32m      3\u001b[0m \u001b[0;31m#bubble(u_array())\u001b[0m\u001b[0;34m\u001b[0m\u001b[0;34m\u001b[0m\u001b[0m\n",
      "\u001b[0;32m~/Documents/Algo/Algo/sort_algo/__init__.py\u001b[0m in \u001b[0;36m<module>\u001b[0;34m\u001b[0m\n\u001b[0;32m----> 1\u001b[0;31m \u001b[0;32mfrom\u001b[0m \u001b[0;34m.\u001b[0m\u001b[0mbubble\u001b[0m \u001b[0;32mimport\u001b[0m \u001b[0mbubbleSort\u001b[0m\u001b[0;34m\u001b[0m\u001b[0;34m\u001b[0m\u001b[0m\n\u001b[0m",
      "\u001b[0;32m~/Documents/Algo/Algo/sort_algo/bubble.py\u001b[0m in \u001b[0;36m<module>\u001b[0;34m\u001b[0m\n\u001b[0;32m----> 1\u001b[0;31m \u001b[0;32mfrom\u001b[0m \u001b[0mutils\u001b[0m \u001b[0;32mimport\u001b[0m \u001b[0mswap\u001b[0m\u001b[0;34m\u001b[0m\u001b[0;34m\u001b[0m\u001b[0m\n\u001b[0m\u001b[1;32m      2\u001b[0m \u001b[0;34m\u001b[0m\u001b[0m\n\u001b[1;32m      3\u001b[0m \u001b[0;34m\u001b[0m\u001b[0m\n\u001b[1;32m      4\u001b[0m \u001b[0;32mdef\u001b[0m \u001b[0mbubbleSort\u001b[0m\u001b[0;34m(\u001b[0m\u001b[0mA\u001b[0m\u001b[0;34m)\u001b[0m\u001b[0;34m:\u001b[0m\u001b[0;34m\u001b[0m\u001b[0;34m\u001b[0m\u001b[0m\n\u001b[1;32m      5\u001b[0m     \"\"\"\n",
      "\u001b[0;31mImportError\u001b[0m: cannot import name 'swap' from 'utils' (/home/emmanuel.barriol@Digital-Grenoble.local/Documents/Algo/Algo/utils.py)"
     ]
    }
   ],
   "source": [
    "from sort_algo import bubbleSort\n",
    "\n",
    "#bubble(u_array())"
   ]
  },
  {
   "cell_type": "markdown",
   "metadata": {},
   "source": [
    "## 1.2 Insertion"
   ]
  },
  {
   "cell_type": "markdown",
   "metadata": {},
   "source": [
    "**Un pseudocode possible** *(source : Wikipedia)*\n",
    "\n",
    "```\n",
    "procédure tri_insertion(tableau T, entier n)\n",
    "\n",
    "  pour i de 1 à n - 1\n",
    "        # mémoriser T[i] dans x\n",
    "        x ← T[i]                            \n",
    "\n",
    "        j ← i                               \n",
    "        tant que j > 0 et T[j - 1] > x\n",
    "                 T[j] ← T[j - 1]\n",
    "                 j ← j - 1\n",
    "\n",
    "        # placer x dans le \"trou\" laissé par le décalage\n",
    "        T[j] ← x \n",
    "```"
   ]
  },
  {
   "cell_type": "code",
   "execution_count": 8,
   "metadata": {},
   "outputs": [],
   "source": [
    "def insertion(A):\n",
    "    \"\"\"\n",
    "    on cherche la place ou va etre positionne l'i_eme element \n",
    "    \"\"\"\n",
    "    # print(f\"Input = {A}\")\n",
    "    for i in range(1, len(A)):\n",
    "        # print(f\"---> i = {i}\")\n",
    "        x=A[i]\n",
    "        j=i        \n",
    "        \n",
    "        while (j>0 and A[j-1] > x):\n",
    "            # print(f\"------> j = {j}\")\n",
    "            # print(f\"Avant swap = {A}\")\n",
    "            #swap(A, j, j-1)\n",
    "            A[j]=A[j-1]\n",
    "            j-=1\n",
    "            # print(f\"Apres swap = {A}\")\n",
    "\n",
    "        A[j]=x\n",
    "    # print(f\"After : {A}\")\n"
   ]
  },
  {
   "cell_type": "code",
   "execution_count": 9,
   "metadata": {},
   "outputs": [],
   "source": [
    "insertion(u_array(True))"
   ]
  },
  {
   "cell_type": "markdown",
   "metadata": {},
   "source": [
    "## 1.3 Selection"
   ]
  },
  {
   "cell_type": "markdown",
   "metadata": {},
   "source": [
    "**Un pseudocode possible** *(source : Wikipedia)*\n",
    "\n",
    "```\n",
    "procédure tri_selection(tableau t, entier n)\n",
    "  pour i de 0 à n - 2\n",
    "      min ← i       \n",
    "      pour j de i + 1 à n - 1\n",
    "          si t[j] < t[min], alors min ← j\n",
    "      fin pour\n",
    "      si min ≠ i, alors échanger t[i] et t[min]\n",
    "  fin pour\n",
    "fin procédure\n",
    "```"
   ]
  },
  {
   "cell_type": "code",
   "execution_count": 10,
   "metadata": {},
   "outputs": [],
   "source": [
    "def selection(A):\n",
    "    \"\"\"\n",
    "    on cherche l'element qui doit se placer a l'i_eme place\n",
    "    \"\"\"\n",
    "    # print(f\"Before = {A}\")\n",
    "    for i in range(len(A)-1):\n",
    "        # print(f\"---> {i}\")\n",
    "        mini=i\n",
    "        for j in range(i+1, len(A)):\n",
    "            # print(f\"------> {j}\")\n",
    "            if A[j]<A[mini]:\n",
    "                # print(f\"FOUND ==> {A[j]} plus petit que {A[i]}\")\n",
    "                mini = j\n",
    "        if i != mini:\n",
    "            # print(\"SWAPING\")\n",
    "            swap(A, i, mini)\n",
    "            # print(A)\n",
    "    # print(f\"After = {A}\")\n"
   ]
  },
  {
   "cell_type": "code",
   "execution_count": 11,
   "metadata": {},
   "outputs": [],
   "source": [
    "selection(u_array())"
   ]
  },
  {
   "cell_type": "markdown",
   "metadata": {},
   "source": [
    "# Time computation study"
   ]
  },
  {
   "cell_type": "code",
   "execution_count": 12,
   "metadata": {},
   "outputs": [],
   "source": [
    "N=1000\n",
    "#u_array(False,N)"
   ]
  },
  {
   "cell_type": "markdown",
   "metadata": {},
   "source": [
    "## Study of different method :"
   ]
  },
  {
   "cell_type": "raw",
   "metadata": {},
   "source": [
    "--> Bubble\n",
    "--> Insertion\n",
    "--> Selection"
   ]
  },
  {
   "cell_type": "code",
   "execution_count": null,
   "metadata": {},
   "outputs": [],
   "source": []
  },
  {
   "cell_type": "code",
   "execution_count": 13,
   "metadata": {},
   "outputs": [],
   "source": [
    "def timeStudy(timeDict:dict):\n",
    "    for i in range(100,10000, 200):\n",
    "        A = u_array(False,i)\n",
    "        \n",
    "        def bubbleSort():\n",
    "            B = A.copy()\n",
    "            bubble(B)\n",
    "        def insertionSort():\n",
    "            B = A.copy()\n",
    "            insertion(B)\n",
    "        def selectionSort():\n",
    "            B = A.copy()\n",
    "            selection(B)\n",
    "        \n",
    "        timeMeasure = round(timeit.timeit(bubbleSort, number=7)/7 * 1000, 2)\n",
    "        timeDict[\"bubble\"][i] = timeMeasure\n",
    "        print(f\"algo = bubble => --> {i} <-- Time --> : {timeMeasure} miliS\")\n",
    "        \n",
    "        A = u_array(False,i)\n",
    "        timeMeasure = round(timeit.timeit(insertionSort, number=7)/7 * 1000, 2)\n",
    "        timeDict[\"insertion\"][i] = timeMeasure\n",
    "        print(f\"algo = insertion => --> {i} <-- Time --> : {timeMeasure} miliS\")\n",
    "        \n",
    "        A = u_array(False,i)\n",
    "        timeMeasure = round(timeit.timeit(selectionSort, number=7)/7 * 1000, 2)\n",
    "        timeDict[\"selection\"][i] = timeMeasure\n",
    "        print(f\"algo = selection => --> {i} <-- Time --> : {timeMeasure} miliS\")\n"
   ]
  },
  {
   "cell_type": "code",
   "execution_count": 14,
   "metadata": {},
   "outputs": [
    {
     "name": "stdout",
     "output_type": "stream",
     "text": [
      "algo = bubble => --> 100 <-- Time --> : 0.78 miliS\n",
      "algo = insertion => --> 100 <-- Time --> : 0.28 miliS\n",
      "algo = selection => --> 100 <-- Time --> : 0.24 miliS\n",
      "algo = bubble => --> 300 <-- Time --> : 5.41 miliS\n",
      "algo = insertion => --> 300 <-- Time --> : 2.48 miliS\n",
      "algo = selection => --> 300 <-- Time --> : 2.31 miliS\n",
      "algo = bubble => --> 500 <-- Time --> : 21.63 miliS\n",
      "algo = insertion => --> 500 <-- Time --> : 7.43 miliS\n",
      "algo = selection => --> 500 <-- Time --> : 6.31 miliS\n",
      "algo = bubble => --> 700 <-- Time --> : 32.98 miliS\n",
      "algo = insertion => --> 700 <-- Time --> : 14.33 miliS\n",
      "algo = selection => --> 700 <-- Time --> : 12.32 miliS\n",
      "algo = bubble => --> 900 <-- Time --> : 52.48 miliS\n",
      "algo = insertion => --> 900 <-- Time --> : 23.61 miliS\n",
      "algo = selection => --> 900 <-- Time --> : 20.32 miliS\n",
      "algo = bubble => --> 1100 <-- Time --> : 79.34 miliS\n",
      "algo = insertion => --> 1100 <-- Time --> : 36.25 miliS\n",
      "algo = selection => --> 1100 <-- Time --> : 31.34 miliS\n",
      "algo = bubble => --> 1300 <-- Time --> : 111.56 miliS\n",
      "algo = insertion => --> 1300 <-- Time --> : 54.6 miliS\n",
      "algo = selection => --> 1300 <-- Time --> : 44.13 miliS\n",
      "algo = bubble => --> 1500 <-- Time --> : 152.78 miliS\n",
      "algo = insertion => --> 1500 <-- Time --> : 75.73 miliS\n",
      "algo = selection => --> 1500 <-- Time --> : 75.77 miliS\n",
      "algo = bubble => --> 1700 <-- Time --> : 260.16 miliS\n",
      "algo = insertion => --> 1700 <-- Time --> : 101.55 miliS\n",
      "algo = selection => --> 1700 <-- Time --> : 101.91 miliS\n",
      "algo = bubble => --> 1900 <-- Time --> : 335.45 miliS\n",
      "algo = insertion => --> 1900 <-- Time --> : 118.43 miliS\n",
      "algo = selection => --> 1900 <-- Time --> : 97.36 miliS\n",
      "algo = bubble => --> 2100 <-- Time --> : 327.18 miliS\n",
      "algo = insertion => --> 2100 <-- Time --> : 144.26 miliS\n",
      "algo = selection => --> 2100 <-- Time --> : 132.77 miliS\n",
      "algo = bubble => --> 2300 <-- Time --> : 421.24 miliS\n",
      "algo = insertion => --> 2300 <-- Time --> : 231.9 miliS\n",
      "algo = selection => --> 2300 <-- Time --> : 173.66 miliS\n",
      "algo = bubble => --> 2500 <-- Time --> : 435.78 miliS\n",
      "algo = insertion => --> 2500 <-- Time --> : 189.65 miliS\n",
      "algo = selection => --> 2500 <-- Time --> : 158.2 miliS\n",
      "algo = bubble => --> 2700 <-- Time --> : 604.14 miliS\n",
      "algo = insertion => --> 2700 <-- Time --> : 215.48 miliS\n",
      "algo = selection => --> 2700 <-- Time --> : 182.09 miliS\n",
      "algo = bubble => --> 2900 <-- Time --> : 568.91 miliS\n",
      "algo = insertion => --> 2900 <-- Time --> : 253.04 miliS\n",
      "algo = selection => --> 2900 <-- Time --> : 214.25 miliS\n",
      "algo = bubble => --> 3100 <-- Time --> : 700.85 miliS\n",
      "algo = insertion => --> 3100 <-- Time --> : 334.05 miliS\n",
      "algo = selection => --> 3100 <-- Time --> : 262.85 miliS\n",
      "algo = bubble => --> 3300 <-- Time --> : 762.39 miliS\n",
      "algo = insertion => --> 3300 <-- Time --> : 319.01 miliS\n",
      "algo = selection => --> 3300 <-- Time --> : 334.55 miliS\n",
      "algo = bubble => --> 3500 <-- Time --> : 964.79 miliS\n",
      "algo = insertion => --> 3500 <-- Time --> : 389.43 miliS\n",
      "algo = selection => --> 3500 <-- Time --> : 302.62 miliS\n",
      "algo = bubble => --> 3700 <-- Time --> : 984.93 miliS\n",
      "algo = insertion => --> 3700 <-- Time --> : 462.38 miliS\n",
      "algo = selection => --> 3700 <-- Time --> : 340.01 miliS\n",
      "algo = bubble => --> 3900 <-- Time --> : 998.05 miliS\n",
      "algo = insertion => --> 3900 <-- Time --> : 476.67 miliS\n",
      "algo = selection => --> 3900 <-- Time --> : 376.98 miliS\n",
      "algo = bubble => --> 4100 <-- Time --> : 1071.53 miliS\n",
      "algo = insertion => --> 4100 <-- Time --> : 520.03 miliS\n",
      "algo = selection => --> 4100 <-- Time --> : 415.13 miliS\n",
      "algo = bubble => --> 4300 <-- Time --> : 1231.77 miliS\n",
      "algo = insertion => --> 4300 <-- Time --> : 539.34 miliS\n",
      "algo = selection => --> 4300 <-- Time --> : 452.49 miliS\n",
      "algo = bubble => --> 4500 <-- Time --> : 1317.25 miliS\n",
      "algo = insertion => --> 4500 <-- Time --> : 598.84 miliS\n",
      "algo = selection => --> 4500 <-- Time --> : 499.21 miliS\n",
      "algo = bubble => --> 4700 <-- Time --> : 1446.76 miliS\n",
      "algo = insertion => --> 4700 <-- Time --> : 731.6 miliS\n",
      "algo = selection => --> 4700 <-- Time --> : 535.99 miliS\n",
      "algo = bubble => --> 4900 <-- Time --> : 1651.2 miliS\n",
      "algo = insertion => --> 4900 <-- Time --> : 712.4 miliS\n",
      "algo = selection => --> 4900 <-- Time --> : 590.92 miliS\n",
      "algo = bubble => --> 5100 <-- Time --> : 1682.56 miliS\n",
      "algo = insertion => --> 5100 <-- Time --> : 786.48 miliS\n",
      "algo = selection => --> 5100 <-- Time --> : 636.57 miliS\n",
      "algo = bubble => --> 5300 <-- Time --> : 1881.22 miliS\n",
      "algo = insertion => --> 5300 <-- Time --> : 854.79 miliS\n",
      "algo = selection => --> 5300 <-- Time --> : 713.29 miliS\n",
      "algo = bubble => --> 5500 <-- Time --> : 2038.96 miliS\n",
      "algo = insertion => --> 5500 <-- Time --> : 901.65 miliS\n",
      "algo = selection => --> 5500 <-- Time --> : 752.15 miliS\n",
      "algo = bubble => --> 5700 <-- Time --> : 2109.57 miliS\n",
      "algo = insertion => --> 5700 <-- Time --> : 997.93 miliS\n",
      "algo = selection => --> 5700 <-- Time --> : 794.64 miliS\n",
      "algo = bubble => --> 5900 <-- Time --> : 2311.0 miliS\n",
      "algo = insertion => --> 5900 <-- Time --> : 1166.22 miliS\n",
      "algo = selection => --> 5900 <-- Time --> : 858.04 miliS\n",
      "algo = bubble => --> 6100 <-- Time --> : 2489.48 miliS\n",
      "algo = insertion => --> 6100 <-- Time --> : 1141.83 miliS\n",
      "algo = selection => --> 6100 <-- Time --> : 920.0 miliS\n",
      "algo = bubble => --> 6300 <-- Time --> : 2584.51 miliS\n",
      "algo = insertion => --> 6300 <-- Time --> : 1417.31 miliS\n",
      "algo = selection => --> 6300 <-- Time --> : 982.87 miliS\n",
      "algo = bubble => --> 6500 <-- Time --> : 2792.54 miliS\n",
      "algo = insertion => --> 6500 <-- Time --> : 1462.32 miliS\n",
      "algo = selection => --> 6500 <-- Time --> : 1051.61 miliS\n",
      "algo = bubble => --> 6700 <-- Time --> : 3007.97 miliS\n",
      "algo = insertion => --> 6700 <-- Time --> : 1374.38 miliS\n",
      "algo = selection => --> 6700 <-- Time --> : 1136.23 miliS\n",
      "algo = bubble => --> 6900 <-- Time --> : 3324.55 miliS\n",
      "algo = insertion => --> 6900 <-- Time --> : 1613.31 miliS\n",
      "algo = selection => --> 6900 <-- Time --> : 1172.72 miliS\n",
      "algo = bubble => --> 7100 <-- Time --> : 3365.38 miliS\n",
      "algo = insertion => --> 7100 <-- Time --> : 1515.18 miliS\n",
      "algo = selection => --> 7100 <-- Time --> : 1233.33 miliS\n",
      "algo = bubble => --> 7300 <-- Time --> : 3500.65 miliS\n",
      "algo = insertion => --> 7300 <-- Time --> : 1638.06 miliS\n",
      "algo = selection => --> 7300 <-- Time --> : 1327.76 miliS\n",
      "algo = bubble => --> 7500 <-- Time --> : 3743.29 miliS\n",
      "algo = insertion => --> 7500 <-- Time --> : 1706.71 miliS\n",
      "algo = selection => --> 7500 <-- Time --> : 1442.18 miliS\n",
      "algo = bubble => --> 7700 <-- Time --> : 3948.95 miliS\n",
      "algo = insertion => --> 7700 <-- Time --> : 1798.73 miliS\n",
      "algo = selection => --> 7700 <-- Time --> : 1553.94 miliS\n",
      "algo = bubble => --> 7900 <-- Time --> : 4236.31 miliS\n",
      "algo = insertion => --> 7900 <-- Time --> : 2092.07 miliS\n",
      "algo = selection => --> 7900 <-- Time --> : 1533.88 miliS\n",
      "algo = bubble => --> 8100 <-- Time --> : 4287.55 miliS\n",
      "algo = insertion => --> 8100 <-- Time --> : 1995.61 miliS\n",
      "algo = selection => --> 8100 <-- Time --> : 1676.45 miliS\n",
      "algo = bubble => --> 8300 <-- Time --> : 5216.41 miliS\n",
      "algo = insertion => --> 8300 <-- Time --> : 2314.25 miliS\n",
      "algo = selection => --> 8300 <-- Time --> : 2040.99 miliS\n",
      "algo = bubble => --> 8500 <-- Time --> : 4786.04 miliS\n",
      "algo = insertion => --> 8500 <-- Time --> : 2438.63 miliS\n",
      "algo = selection => --> 8500 <-- Time --> : 1879.09 miliS\n",
      "algo = bubble => --> 8700 <-- Time --> : 5346.92 miliS\n",
      "algo = insertion => --> 8700 <-- Time --> : 2417.18 miliS\n",
      "algo = selection => --> 8700 <-- Time --> : 1937.33 miliS\n",
      "algo = bubble => --> 8900 <-- Time --> : 5327.63 miliS\n",
      "algo = insertion => --> 8900 <-- Time --> : 2374.54 miliS\n",
      "algo = selection => --> 8900 <-- Time --> : 2021.08 miliS\n",
      "algo = bubble => --> 9100 <-- Time --> : 5553.96 miliS\n",
      "algo = insertion => --> 9100 <-- Time --> : 2905.47 miliS\n",
      "algo = selection => --> 9100 <-- Time --> : 2269.0 miliS\n",
      "algo = bubble => --> 9300 <-- Time --> : 5734.21 miliS\n",
      "algo = insertion => --> 9300 <-- Time --> : 3062.39 miliS\n",
      "algo = selection => --> 9300 <-- Time --> : 2156.05 miliS\n",
      "algo = bubble => --> 9500 <-- Time --> : 6094.81 miliS\n",
      "algo = insertion => --> 9500 <-- Time --> : 2706.89 miliS\n",
      "algo = selection => --> 9500 <-- Time --> : 2248.79 miliS\n",
      "algo = bubble => --> 9700 <-- Time --> : 6572.57 miliS\n",
      "algo = insertion => --> 9700 <-- Time --> : 3105.68 miliS\n",
      "algo = selection => --> 9700 <-- Time --> : 3055.78 miliS\n"
     ]
    },
    {
     "name": "stdout",
     "output_type": "stream",
     "text": [
      "algo = bubble => --> 9900 <-- Time --> : 7633.61 miliS\n",
      "algo = insertion => --> 9900 <-- Time --> : 3349.4 miliS\n",
      "algo = selection => --> 9900 <-- Time --> : 2800.54 miliS\n"
     ]
    }
   ],
   "source": [
    "timeDict = {\n",
    "    \"bubble\":{},\n",
    "    \"insertion\": {},\n",
    "    \"selection\": {}\n",
    "}        \n",
    "\n",
    "timeStudy(timeDict)"
   ]
  },
  {
   "cell_type": "code",
   "execution_count": 15,
   "metadata": {},
   "outputs": [],
   "source": [
    "#timeDict"
   ]
  },
  {
   "cell_type": "code",
   "execution_count": 17,
   "metadata": {},
   "outputs": [
    {
     "name": "stderr",
     "output_type": "stream",
     "text": [
      "UsageError: Line magic function `%` not found.\n"
     ]
    }
   ],
   "source": [
    "res = % timeit "
   ]
  },
  {
   "cell_type": "code",
   "execution_count": 18,
   "metadata": {},
   "outputs": [
    {
     "data": {
      "image/png": "[encoded data removed]",
      "text/plain": [
       "<Figure size 640x480 with 1 Axes>"
      ]
     },
     "metadata": {},
     "output_type": "display_data"
    }
   ],
   "source": [
    "def smooth(y, box_pts):\n",
    "    box = np.ones(box_pts)/box_pts\n",
    "    y_smooth = np.convolve(y, box, mode='same')\n",
    "    return y_smooth\n",
    "\n",
    "from statsmodels.nonparametric.kernel_regression import KernelReg\n",
    "import numpy as np\n",
    "import matplotlib.pyplot as plt\n",
    "\n",
    "x = np.linspace(0,2*np.pi,100)\n",
    "y = np.sin(x) + np.random.random(100) * 0.2\n",
    "\n",
    "kr = KernelReg(y,x,'c')\n",
    "plt.plot(x, y, '+')\n",
    "y_pred, y_std = kr.fit(x)\n",
    "\n",
    "plt.plot(x, y_pred)\n",
    "plt.show()"
   ]
  },
  {
   "cell_type": "code",
   "execution_count": 19,
   "metadata": {},
   "outputs": [],
   "source": [
    "def plotComplexity(sizes,timesB,timesI,timesS):\n",
    "    \"\"\"\n",
    "    Plot la comparaison des performances en termes de temps des 3 différents algos\n",
    "    \"\"\"\n",
    "    \n",
    "    krB = KernelReg(timesB, sizes, 'c')\n",
    "    y_pred_B, y_std_B = krB.fit(sizes)\n",
    "    \n",
    "    krI = KernelReg(timesI, sizes, 'c')\n",
    "    y_pred_I, y_std_I = krI.fit(sizes)\n",
    "    \n",
    "    krS = KernelReg(timesS, sizes, 'c')\n",
    "    y_pred_S, y_std_S = krS.fit(sizes)\n",
    "    \n",
    "    plt.style.use('ggplot')\n",
    "    fig, ax = plt.subplots(1, 1, tight_layout=True, figsize=(6,4))\n",
    "\n",
    "    ax.set_title(\"Performance en terme de temps\")\n",
    "    ax.set_xlabel(\"Taille de tableau\")\n",
    "    ax.set_ylabel(\"Temps (mili s)\")\n",
    "\n",
    "    ax.plot(sizes,timesB,label='Bubble')\n",
    "    ax.plot(sizes,timesI,label='Insertion')\n",
    "    ax.plot(sizes,timesS,label='Selection')\n",
    "    ax.plot(sizes,y_pred_B,label='Smooth', c=\"grey\")\n",
    "    ax.plot(sizes,y_pred_I,label='Smooth',c=\"grey\")\n",
    "    ax.plot(sizes,y_pred_S,label='Smooth',c=\"grey\")\n",
    "\n",
    "    handles, labels = ax.get_legend_handles_labels()    \n",
    "    ax.legend(handles=handles,     # The line objects #ax.legend si légende dans le graphe, fig.legend en-dehors\n",
    "               ncol=1, \n",
    "               labels=labels,   # The labels for each line\n",
    "               loc=\"upper left\",   # Position of legend : lower center\n",
    "               borderaxespad=0.8    # Small spacing around legend box\n",
    "    #              title=\"Legend\"  # Title for the legend\n",
    "               )"
   ]
  },
  {
   "cell_type": "code",
   "execution_count": 20,
   "metadata": {},
   "outputs": [
    {
     "data": {
      "image/png": "[encoded data removed]",
      "text/plain": [
       "<Figure size 600x400 with 1 Axes>"
      ]
     },
     "metadata": {},
     "output_type": "display_data"
    }
   ],
   "source": [
    "N = list(timeDict[list(timeDict.keys())[0]].keys())\n",
    "bubbleList = list(timeDict[list(timeDict.keys())[0]].values())\n",
    "insertionList = list(timeDict[list(timeDict.keys())[1]].values())\n",
    "selectionList = list(timeDict[list(timeDict.keys())[2]].values())\n",
    "\n",
    "plotComplexity(N, bubbleList, insertionList, selectionList)"
   ]
  },
  {
   "cell_type": "code",
   "execution_count": null,
   "metadata": {},
   "outputs": [],
   "source": []
  },
  {
   "cell_type": "code",
   "execution_count": null,
   "metadata": {},
   "outputs": [],
   "source": []
  }
 ],
 "metadata": {
  "kernelspec": {
   "display_name": "Python 3 (ipykernel)",
   "language": "python",
   "name": "python3"
  },
  "language_info": {
   "codemirror_mode": {
    "name": "ipython",
    "version": 3
   },
   "file_extension": ".py",
   "mimetype": "text/x-python",
   "name": "python",
   "nbconvert_exporter": "python",
   "pygments_lexer": "ipython3",
   "version": "3.9.13"
  }
 },
 "nbformat": 4,
 "nbformat_minor": 4
}
