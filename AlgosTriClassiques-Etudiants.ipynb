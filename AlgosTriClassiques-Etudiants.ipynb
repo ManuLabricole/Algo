{
 "cells": [
  {
   "cell_type": "markdown",
   "metadata": {},
   "source": [
    "# 0 Mise en place des fonctions de travail "
   ]
  },
  {
   "cell_type": "code",
   "execution_count": 1,
   "metadata": {},
   "outputs": [],
   "source": [
    "import random\n",
    "import timeit\n",
    "# Import new magic commands\n",
    "%reload_ext line_profiler\n",
    "\n",
    "def u_array(debug=False, N=21):\n",
    "    \"\"\"\n",
    "    Retourne un tableau non trie avec des valeur de 1 <= i < N .\n",
    "    Par defaut un tableau  1 <= i < 21\n",
    "    \n",
    "    Pour tester vos algorithmes, vous pouvez passer l'argument debug=True\n",
    "    dans ce cas, l'algorithme vous donne toujour le meme tableau :\n",
    "    \n",
    "    [3, 9, 7, 1, 6, 2, 8, 4, 5]\n",
    "    \n",
    "    \"\"\"\n",
    "    if debug:\n",
    "        return [3, 9, 7, 1, 6, 2, 8, 4, 5]\n",
    "    \n",
    "    array = list(range(1,N))\n",
    "    random.shuffle(array)\n",
    "\n",
    "    return array"
   ]
  },
  {
   "cell_type": "code",
   "execution_count": 2,
   "metadata": {},
   "outputs": [
    {
     "name": "stdout",
     "output_type": "stream",
     "text": [
      "[12, 14, 17, 18, 7, 3, 5, 20, 13, 1, 2, 4, 16, 15, 10, 6, 9, 19, 8, 11]\n",
      "[3, 9, 7, 1, 6, 2, 8, 4, 5]\n",
      "[18, 3, 22, 6, 20, 11, 10, 2, 15, 12, 7, 8, 5, 14, 27, 4, 26, 17, 16, 19, 9, 29, 21, 28, 24, 25, 23, 30, 1, 13]\n"
     ]
    }
   ],
   "source": [
    "# Exemple d'utilisation de la fonction precedente\n",
    "\n",
    "print(u_array()) # Retourne un tableau avec des nombres naturels allant de 1 a 20\n",
    "print(u_array(True)) # Retourne le tableau [3, 9, 7, 1, 6, 2, 8, 4, 5]\n",
    "print(u_array(N=31)) # Des nombres naturels allant de 1 a 30"
   ]
  },
  {
   "cell_type": "code",
   "execution_count": 3,
   "metadata": {},
   "outputs": [],
   "source": [
    "def swap(A, i, j):\n",
    "    # Store in multivariable assignement\n",
    "    #print(f\"Swap {A[i]} with {A[j]}\")\n",
    "    #print(A)\n",
    "    A[i], A[j] = A[j], A[i]\n",
    "    #print(A)"
   ]
  },
  {
   "cell_type": "code",
   "execution_count": 4,
   "metadata": {},
   "outputs": [],
   "source": [
    "swap(u_array(True), 1, 4)\n",
    "# print(u_array(True))"
   ]
  },
  {
   "cell_type": "markdown",
   "metadata": {},
   "source": [
    "# 1 Les tris classiques "
   ]
  },
  {
   "cell_type": "markdown",
   "metadata": {},
   "source": [
    "## 1.1 Tri à bulles"
   ]
  },
  {
   "cell_type": "markdown",
   "metadata": {},
   "source": [
    "**Un pseudocode possible** *(source : Wikipedia)*\n",
    "\n",
    "```\n",
    "procedure tri_à_bulles(Tableau T)\n",
    "   pour i allant de (taille de T)-1 à 1\n",
    "       pour j allant de 0 à i-1\n",
    "           si T[j+1] < T[j] alors\n",
    "               échanger(T[j+1], T[j])\n",
    "       fin pour\n",
    "   fin pour\n",
    "        \n",
    "```"
   ]
  },
  {
   "cell_type": "code",
   "execution_count": 5,
   "metadata": {},
   "outputs": [],
   "source": [
    "def is_sorted(A:list) -> bool:\n",
    "    is_sorted=True\n",
    "    for i in range(0, len(A)-1):\n",
    "        if not A[i+1] > A[i]:\n",
    "            is_sorted=False\n",
    "    return is_sorted"
   ]
  },
  {
   "cell_type": "code",
   "execution_count": 6,
   "metadata": {},
   "outputs": [],
   "source": [
    "def bubble(A):\n",
    "    \"\"\"\n",
    "    les grands valeurs remontent aux derniers position du tableau\n",
    "    comme des bulles d'air dans l'eau\n",
    "    \"\"\"\n",
    "    #print(f\"Before bubble : {A}\")\n",
    "    for i in range(len(A), 1, -1):\n",
    "        #print(f\"Main loop --> {i}\")\n",
    "        for j in range(0, i-1):\n",
    "            if A[j+1]<=A[j]:\n",
    "                swap(A, j+1, j)\n",
    "    #print(f\"After bubble : {A}\")\n",
    "    # print(f\"is_sorted => {is_sorted(A)}\")\n",
    "        "
   ]
  },
  {
   "cell_type": "code",
   "execution_count": 7,
   "metadata": {},
   "outputs": [],
   "source": [
    "bubble(u_array(True))"
   ]
  },
  {
   "cell_type": "markdown",
   "metadata": {},
   "source": [
    "## 1.2 Insertion"
   ]
  },
  {
   "cell_type": "markdown",
   "metadata": {},
   "source": [
    "**Un pseudocode possible** *(source : Wikipedia)*\n",
    "\n",
    "```\n",
    "procédure tri_insertion(tableau T, entier n)\n",
    "\n",
    "  pour i de 1 à n - 1\n",
    "        # mémoriser T[i] dans x\n",
    "        x ← T[i]                            \n",
    "\n",
    "        j ← i                               \n",
    "        tant que j > 0 et T[j - 1] > x\n",
    "                 T[j] ← T[j - 1]\n",
    "                 j ← j - 1\n",
    "\n",
    "        # placer x dans le \"trou\" laissé par le décalage\n",
    "        T[j] ← x \n",
    "```"
   ]
  },
  {
   "cell_type": "code",
   "execution_count": 8,
   "metadata": {},
   "outputs": [],
   "source": [
    "def insertion(A):\n",
    "    \"\"\"\n",
    "    on cherche la place ou va etre positionne l'i_eme element \n",
    "    \"\"\"\n",
    "    # print(f\"Input = {A}\")\n",
    "    for i in range(1, len(A)):\n",
    "        # print(f\"---> i = {i}\")\n",
    "        x=A[i]\n",
    "        j=i        \n",
    "        \n",
    "        while (j>0 and A[j-1] > x):\n",
    "            # print(f\"------> j = {j}\")\n",
    "            # print(f\"Avant swap = {A}\")\n",
    "            #swap(A, j, j-1)\n",
    "            A[j]=A[j-1]\n",
    "            j-=1\n",
    "            # print(f\"Apres swap = {A}\")\n",
    "\n",
    "        A[j]=x\n",
    "    # print(f\"After : {A}\")\n"
   ]
  },
  {
   "cell_type": "code",
   "execution_count": 9,
   "metadata": {},
   "outputs": [],
   "source": [
    "insertion(u_array(True))"
   ]
  },
  {
   "cell_type": "markdown",
   "metadata": {},
   "source": [
    "## 1.3 Selection"
   ]
  },
  {
   "cell_type": "markdown",
   "metadata": {},
   "source": [
    "**Un pseudocode possible** *(source : Wikipedia)*\n",
    "\n",
    "```\n",
    "procédure tri_selection(tableau t, entier n)\n",
    "  pour i de 0 à n - 2\n",
    "      min ← i       \n",
    "      pour j de i + 1 à n - 1\n",
    "          si t[j] < t[min], alors min ← j\n",
    "      fin pour\n",
    "      si min ≠ i, alors échanger t[i] et t[min]\n",
    "  fin pour\n",
    "fin procédure\n",
    "```"
   ]
  },
  {
   "cell_type": "code",
   "execution_count": 10,
   "metadata": {},
   "outputs": [],
   "source": [
    "def selection(A):\n",
    "    \"\"\"\n",
    "    on cherche l'element qui doit se placer a l'i_eme place\n",
    "    \"\"\"\n",
    "    # print(f\"Before = {A}\")\n",
    "    for i in range(len(A)-1):\n",
    "        # print(f\"---> {i}\")\n",
    "        mini=i\n",
    "        for j in range(i+1, len(A)):\n",
    "            # print(f\"------> {j}\")\n",
    "            if A[j]<A[mini]:\n",
    "                # print(f\"FOUND ==> {A[j]} plus petit que {A[i]}\")\n",
    "                mini = j\n",
    "        if i != mini:\n",
    "            # print(\"SWAPING\")\n",
    "            swap(A, i, mini)\n",
    "            # print(A)\n",
    "    # print(f\"After = {A}\")\n"
   ]
  },
  {
   "cell_type": "code",
   "execution_count": 11,
   "metadata": {},
   "outputs": [],
   "source": [
    "selection(u_array())"
   ]
  },
  {
   "cell_type": "markdown",
   "metadata": {},
   "source": [
    "# Time computation study"
   ]
  },
  {
   "cell_type": "code",
   "execution_count": 12,
   "metadata": {},
   "outputs": [],
   "source": [
    "N=1000\n",
    "#u_array(False,N)"
   ]
  },
  {
   "cell_type": "markdown",
   "metadata": {},
   "source": [
    "## Study of different method :"
   ]
  },
  {
   "cell_type": "raw",
   "metadata": {},
   "source": [
    "--> Bubble\n",
    "--> Insertion\n",
    "--> Selection"
   ]
  },
  {
   "cell_type": "code",
   "execution_count": null,
   "metadata": {},
   "outputs": [],
   "source": []
  },
  {
   "cell_type": "code",
   "execution_count": 13,
   "metadata": {},
   "outputs": [],
   "source": [
    "def timeStudy(timeDict:dict):\n",
    "    for i in range(100,5000, 200):\n",
    "        A = u_array(False,i)\n",
    "        \n",
    "        def bubbleSort():\n",
    "            B = A\n",
    "            bubble(B)\n",
    "        def insertionSort():\n",
    "            B = A\n",
    "            insertion(B)\n",
    "        def selectionSort():\n",
    "            B = A\n",
    "            selection(B)\n",
    "        \n",
    "        timeMeasure = round(timeit.timeit(bubbleSort, number=7)/7 * 1000, 2)\n",
    "        timeDict[\"bubble\"][i] = timeMeasure\n",
    "        print(f\"algo = bubble => --> {i} <-- Time --> : {timeMeasure} miliS\")\n",
    "        \n",
    "        A = u_array(False,i)\n",
    "        timeMeasure = round(timeit.timeit(insertionSort, number=7)/7 * 1000, 2)\n",
    "        timeDict[\"insertion\"][i] = timeMeasure\n",
    "        print(f\"algo = insertion => --> {i} <-- Time --> : {timeMeasure} miliS\")\n",
    "        \n",
    "        A = u_array(False,i)\n",
    "        timeMeasure = round(timeit.timeit(selectionSort, number=7)/7 * 1000, 2)\n",
    "        timeDict[\"selection\"][i] = timeMeasure\n",
    "        print(f\"algo = selection => --> {i} <-- Time --> : {timeMeasure} miliS\")\n"
   ]
  },
  {
   "cell_type": "code",
   "execution_count": null,
   "metadata": {},
   "outputs": [
    {
     "name": "stdout",
     "output_type": "stream",
     "text": [
      "algo = bubble => --> 100 <-- Time --> : 0.42 miliS\n",
      "algo = insertion => --> 100 <-- Time --> : 0.05 miliS\n",
      "algo = selection => --> 100 <-- Time --> : 0.31 miliS\n",
      "algo = bubble => --> 300 <-- Time --> : 3.17 miliS\n",
      "algo = insertion => --> 300 <-- Time --> : 0.34 miliS\n",
      "algo = selection => --> 300 <-- Time --> : 2.08 miliS\n",
      "algo = bubble => --> 500 <-- Time --> : 15.78 miliS\n",
      "algo = insertion => --> 500 <-- Time --> : 1.04 miliS\n",
      "algo = selection => --> 500 <-- Time --> : 9.62 miliS\n",
      "algo = bubble => --> 700 <-- Time --> : 17.52 miliS\n",
      "algo = insertion => --> 700 <-- Time --> : 2.81 miliS\n",
      "algo = selection => --> 700 <-- Time --> : 12.96 miliS\n",
      "algo = bubble => --> 900 <-- Time --> : 29.89 miliS\n",
      "algo = insertion => --> 900 <-- Time --> : 3.52 miliS\n",
      "algo = selection => --> 900 <-- Time --> : 21.33 miliS\n",
      "algo = bubble => --> 1100 <-- Time --> : 46.72 miliS\n",
      "algo = insertion => --> 1100 <-- Time --> : 5.22 miliS\n",
      "algo = selection => --> 1100 <-- Time --> : 32.44 miliS\n",
      "algo = bubble => --> 1300 <-- Time --> : 66.99 miliS\n",
      "algo = insertion => --> 1300 <-- Time --> : 7.61 miliS\n",
      "algo = selection => --> 1300 <-- Time --> : 45.69 miliS\n",
      "algo = bubble => --> 1500 <-- Time --> : 86.68 miliS\n",
      "algo = insertion => --> 1500 <-- Time --> : 9.73 miliS\n",
      "algo = selection => --> 1500 <-- Time --> : 58.93 miliS\n",
      "algo = bubble => --> 1700 <-- Time --> : 109.4 miliS\n",
      "algo = insertion => --> 1700 <-- Time --> : 14.45 miliS\n",
      "algo = selection => --> 1700 <-- Time --> : 77.53 miliS\n",
      "algo = bubble => --> 1900 <-- Time --> : 138.46 miliS\n",
      "algo = insertion => --> 1900 <-- Time --> : 15.58 miliS\n",
      "algo = selection => --> 1900 <-- Time --> : 88.95 miliS\n",
      "algo = bubble => --> 2100 <-- Time --> : 165.3 miliS\n",
      "algo = insertion => --> 2100 <-- Time --> : 18.7 miliS\n",
      "algo = selection => --> 2100 <-- Time --> : 108.91 miliS\n",
      "algo = bubble => --> 2300 <-- Time --> : 196.4 miliS\n",
      "algo = insertion => --> 2300 <-- Time --> : 21.78 miliS\n",
      "algo = selection => --> 2300 <-- Time --> : 132.7 miliS\n",
      "algo = bubble => --> 2500 <-- Time --> : 234.7 miliS\n",
      "algo = insertion => --> 2500 <-- Time --> : 28.15 miliS\n",
      "algo = selection => --> 2500 <-- Time --> : 156.98 miliS\n",
      "algo = bubble => --> 2700 <-- Time --> : 272.08 miliS\n",
      "algo = insertion => --> 2700 <-- Time --> : 31.0 miliS\n",
      "algo = selection => --> 2700 <-- Time --> : 187.61 miliS\n",
      "algo = bubble => --> 2900 <-- Time --> : 318.26 miliS\n",
      "algo = insertion => --> 2900 <-- Time --> : 36.87 miliS\n",
      "algo = selection => --> 2900 <-- Time --> : 211.67 miliS\n",
      "algo = bubble => --> 3100 <-- Time --> : 363.81 miliS\n",
      "algo = insertion => --> 3100 <-- Time --> : 41.7 miliS\n",
      "algo = selection => --> 3100 <-- Time --> : 242.1 miliS\n",
      "algo = bubble => --> 3300 <-- Time --> : 405.96 miliS\n",
      "algo = insertion => --> 3300 <-- Time --> : 51.53 miliS\n",
      "algo = selection => --> 3300 <-- Time --> : 278.36 miliS\n",
      "algo = bubble => --> 3500 <-- Time --> : 485.94 miliS\n",
      "algo = insertion => --> 3500 <-- Time --> : 57.14 miliS\n"
     ]
    }
   ],
   "source": [
    "timeDict = {\n",
    "    \"bubble\":{},\n",
    "    \"insertion\": {},\n",
    "    \"selection\": {}\n",
    "}        \n",
    "\n",
    "timeStudy(timeDict)"
   ]
  },
  {
   "cell_type": "code",
   "execution_count": null,
   "metadata": {},
   "outputs": [],
   "source": [
    "timeDict"
   ]
  },
  {
   "cell_type": "code",
   "execution_count": null,
   "metadata": {},
   "outputs": [],
   "source": [
    "#%lprun -f selection selection(A)"
   ]
  },
  {
   "cell_type": "code",
   "execution_count": null,
   "metadata": {},
   "outputs": [],
   "source": [
    "res = % timeit "
   ]
  },
  {
   "cell_type": "code",
   "execution_count": null,
   "metadata": {},
   "outputs": [],
   "source": []
  },
  {
   "cell_type": "code",
   "execution_count": null,
   "metadata": {},
   "outputs": [],
   "source": []
  }
 ],
 "metadata": {
  "kernelspec": {
   "display_name": "Python 3 (ipykernel)",
   "language": "python",
   "name": "python3"
  },
  "language_info": {
   "codemirror_mode": {
    "name": "ipython",
    "version": 3
   },
   "file_extension": ".py",
   "mimetype": "text/x-python",
   "name": "python",
   "nbconvert_exporter": "python",
   "pygments_lexer": "ipython3",
   "version": "3.9.13"
  }
 },
 "nbformat": 4,
 "nbformat_minor": 4
}
