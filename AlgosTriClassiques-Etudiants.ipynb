{
 "cells": [
  {
   "cell_type": "markdown",
   "metadata": {},
   "source": [
    "# 0 Mise en place des fonctions de travail "
   ]
  },
  {
   "cell_type": "code",
   "execution_count": 54,
   "metadata": {},
   "outputs": [],
   "source": [
    "import random\n",
    "import timeit\n",
    "import matplotlib.pyplot as plt\n",
    "# Import new magic commands\n",
    "%reload_ext line_profiler\n",
    "\n",
    "def u_array(debug=False, N=21):\n",
    "    \"\"\"\n",
    "    Retourne un tableau non trie avec des valeur de 1 <= i < N .\n",
    "    Par defaut un tableau  1 <= i < 21\n",
    "    \n",
    "    Pour tester vos algorithmes, vous pouvez passer l'argument debug=True\n",
    "    dans ce cas, l'algorithme vous donne toujour le meme tableau :\n",
    "    \n",
    "    [3, 9, 7, 1, 6, 2, 8, 4, 5]\n",
    "    \n",
    "    \"\"\"\n",
    "    if debug:\n",
    "        return [3, 9, 7, 1, 6, 2, 8, 4, 5]\n",
    "    \n",
    "    array = list(range(1,N))\n",
    "    random.shuffle(array)\n",
    "\n",
    "    return array"
   ]
  },
  {
   "cell_type": "code",
   "execution_count": 2,
   "metadata": {},
   "outputs": [
    {
     "name": "stdout",
     "output_type": "stream",
     "text": [
      "[11, 14, 13, 15, 20, 4, 19, 2, 8, 1, 7, 5, 16, 12, 17, 6, 9, 3, 10, 18]\n",
      "[3, 9, 7, 1, 6, 2, 8, 4, 5]\n",
      "[17, 14, 27, 22, 3, 1, 10, 12, 13, 7, 25, 6, 8, 4, 18, 16, 2, 28, 15, 20, 24, 29, 30, 11, 5, 9, 26, 23, 19, 21]\n"
     ]
    }
   ],
   "source": [
    "# Exemple d'utilisation de la fonction precedente\n",
    "\n",
    "print(u_array()) # Retourne un tableau avec des nombres naturels allant de 1 a 20\n",
    "print(u_array(True)) # Retourne le tableau [3, 9, 7, 1, 6, 2, 8, 4, 5]\n",
    "print(u_array(N=31)) # Des nombres naturels allant de 1 a 30"
   ]
  },
  {
   "cell_type": "code",
   "execution_count": 3,
   "metadata": {},
   "outputs": [],
   "source": [
    "def swap(A, i, j):\n",
    "    # Store in multivariable assignement\n",
    "    #print(f\"Swap {A[i]} with {A[j]}\")\n",
    "    #print(A)\n",
    "    A[i], A[j] = A[j], A[i]\n",
    "    #print(A)"
   ]
  },
  {
   "cell_type": "code",
   "execution_count": 4,
   "metadata": {},
   "outputs": [],
   "source": [
    "swap(u_array(True), 1, 4)\n",
    "# print(u_array(True))"
   ]
  },
  {
   "cell_type": "markdown",
   "metadata": {},
   "source": [
    "# 1 Les tris classiques "
   ]
  },
  {
   "cell_type": "markdown",
   "metadata": {},
   "source": [
    "## 1.1 Tri à bulles"
   ]
  },
  {
   "cell_type": "markdown",
   "metadata": {},
   "source": [
    "**Un pseudocode possible** *(source : Wikipedia)*\n",
    "\n",
    "```\n",
    "procedure tri_à_bulles(Tableau T)\n",
    "   pour i allant de (taille de T)-1 à 1\n",
    "       pour j allant de 0 à i-1\n",
    "           si T[j+1] < T[j] alors\n",
    "               échanger(T[j+1], T[j])\n",
    "       fin pour\n",
    "   fin pour\n",
    "        \n",
    "```"
   ]
  },
  {
   "cell_type": "code",
   "execution_count": 5,
   "metadata": {},
   "outputs": [],
   "source": [
    "def is_sorted(A:list) -> bool:\n",
    "    is_sorted=True\n",
    "    for i in range(0, len(A)-1):\n",
    "        if not A[i+1] > A[i]:\n",
    "            is_sorted=False\n",
    "    return is_sorted"
   ]
  },
  {
   "cell_type": "code",
   "execution_count": 15,
   "metadata": {},
   "outputs": [],
   "source": [
    "def bubble(A):\n",
    "    \"\"\"\n",
    "    les grands valeurs remontent aux derniers position du tableau\n",
    "    comme des bulles d'air dans l'eau\n",
    "    \"\"\"\n",
    "    #print(f\"Before bubble : {A}\")\n",
    "    for i in range(len(A)-1, 0, -1):\n",
    "        #print(f\"Main loop --> {i}\")\n",
    "        for j in range(0, i):\n",
    "            if A[j+1]<=A[j]:\n",
    "                swap(A, j+1, j)\n",
    "    #print(f\"After bubble : {A}\")\n",
    "    # print(f\"is_sorted => {is_sorted(A)}\")\n",
    "        "
   ]
  },
  {
   "cell_type": "code",
   "execution_count": 7,
   "metadata": {},
   "outputs": [
    {
     "data": {
      "text/plain": [
       "[1, 2, 3, 4, 5, 6, 7, 8, 9, 10, 11, 12, 13, 14, 15, 16, 17, 18, 19, 20]"
      ]
     },
     "execution_count": 7,
     "metadata": {},
     "output_type": "execute_result"
    }
   ],
   "source": [
    "bubble(u_array())"
   ]
  },
  {
   "cell_type": "markdown",
   "metadata": {},
   "source": [
    "## 1.2 Insertion"
   ]
  },
  {
   "cell_type": "markdown",
   "metadata": {},
   "source": [
    "**Un pseudocode possible** *(source : Wikipedia)*\n",
    "\n",
    "```\n",
    "procédure tri_insertion(tableau T, entier n)\n",
    "\n",
    "  pour i de 1 à n - 1\n",
    "        # mémoriser T[i] dans x\n",
    "        x ← T[i]                            \n",
    "\n",
    "        j ← i                               \n",
    "        tant que j > 0 et T[j - 1] > x\n",
    "                 T[j] ← T[j - 1]\n",
    "                 j ← j - 1\n",
    "\n",
    "        # placer x dans le \"trou\" laissé par le décalage\n",
    "        T[j] ← x \n",
    "```"
   ]
  },
  {
   "cell_type": "code",
   "execution_count": 8,
   "metadata": {},
   "outputs": [],
   "source": [
    "def insertion(A):\n",
    "    \"\"\"\n",
    "    on cherche la place ou va etre positionne l'i_eme element \n",
    "    \"\"\"\n",
    "    # print(f\"Input = {A}\")\n",
    "    for i in range(1, len(A)):\n",
    "        # print(f\"---> i = {i}\")\n",
    "        x=A[i]\n",
    "        j=i        \n",
    "        \n",
    "        while (j>0 and A[j-1] > x):\n",
    "            # print(f\"------> j = {j}\")\n",
    "            # print(f\"Avant swap = {A}\")\n",
    "            #swap(A, j, j-1)\n",
    "            A[j]=A[j-1]\n",
    "            j-=1\n",
    "            # print(f\"Apres swap = {A}\")\n",
    "\n",
    "        A[j]=x\n",
    "    # print(f\"After : {A}\")\n"
   ]
  },
  {
   "cell_type": "code",
   "execution_count": 9,
   "metadata": {},
   "outputs": [],
   "source": [
    "insertion(u_array(True))"
   ]
  },
  {
   "cell_type": "markdown",
   "metadata": {},
   "source": [
    "## 1.3 Selection"
   ]
  },
  {
   "cell_type": "markdown",
   "metadata": {},
   "source": [
    "**Un pseudocode possible** *(source : Wikipedia)*\n",
    "\n",
    "```\n",
    "procédure tri_selection(tableau t, entier n)\n",
    "  pour i de 0 à n - 2\n",
    "      min ← i       \n",
    "      pour j de i + 1 à n - 1\n",
    "          si t[j] < t[min], alors min ← j\n",
    "      fin pour\n",
    "      si min ≠ i, alors échanger t[i] et t[min]\n",
    "  fin pour\n",
    "fin procédure\n",
    "```"
   ]
  },
  {
   "cell_type": "code",
   "execution_count": 10,
   "metadata": {},
   "outputs": [],
   "source": [
    "def selection(A):\n",
    "    \"\"\"\n",
    "    on cherche l'element qui doit se placer a l'i_eme place\n",
    "    \"\"\"\n",
    "    # print(f\"Before = {A}\")\n",
    "    for i in range(len(A)-1):\n",
    "        # print(f\"---> {i}\")\n",
    "        mini=i\n",
    "        for j in range(i+1, len(A)):\n",
    "            # print(f\"------> {j}\")\n",
    "            if A[j]<A[mini]:\n",
    "                # print(f\"FOUND ==> {A[j]} plus petit que {A[i]}\")\n",
    "                mini = j\n",
    "        if i != mini:\n",
    "            # print(\"SWAPING\")\n",
    "            swap(A, i, mini)\n",
    "            # print(A)\n",
    "    # print(f\"After = {A}\")\n"
   ]
  },
  {
   "cell_type": "code",
   "execution_count": 11,
   "metadata": {},
   "outputs": [],
   "source": [
    "selection(u_array())"
   ]
  },
  {
   "cell_type": "markdown",
   "metadata": {},
   "source": [
    "# Time computation study"
   ]
  },
  {
   "cell_type": "code",
   "execution_count": 12,
   "metadata": {},
   "outputs": [],
   "source": [
    "N=1000\n",
    "#u_array(False,N)"
   ]
  },
  {
   "cell_type": "markdown",
   "metadata": {},
   "source": [
    "## Study of different method :"
   ]
  },
  {
   "cell_type": "raw",
   "metadata": {},
   "source": [
    "--> Bubble\n",
    "--> Insertion\n",
    "--> Selection"
   ]
  },
  {
   "cell_type": "code",
   "execution_count": null,
   "metadata": {},
   "outputs": [],
   "source": []
  },
  {
   "cell_type": "code",
   "execution_count": 59,
   "metadata": {},
   "outputs": [],
   "source": [
    "def timeStudy(timeDict:dict):\n",
    "    for i in range(100,5000, 200):\n",
    "        A = u_array(False,i)\n",
    "        \n",
    "        def bubbleSort():\n",
    "            B = A.copy()\n",
    "            bubble(B)\n",
    "        def insertionSort():\n",
    "            B = A.copy()\n",
    "            insertion(B)\n",
    "        def selectionSort():\n",
    "            B = A.copy()\n",
    "            selection(B)\n",
    "        \n",
    "        timeMeasure = round(timeit.timeit(bubbleSort, number=7)/7 * 1000, 2)\n",
    "        timeDict[\"bubble\"][i] = timeMeasure\n",
    "        print(f\"algo = bubble => --> {i} <-- Time --> : {timeMeasure} miliS\")\n",
    "        \n",
    "        A = u_array(False,i)\n",
    "        timeMeasure = round(timeit.timeit(insertionSort, number=7)/7 * 1000, 2)\n",
    "        timeDict[\"insertion\"][i] = timeMeasure\n",
    "        print(f\"algo = insertion => --> {i} <-- Time --> : {timeMeasure} miliS\")\n",
    "        \n",
    "        A = u_array(False,i)\n",
    "        timeMeasure = round(timeit.timeit(selectionSort, number=7)/7 * 1000, 2)\n",
    "        timeDict[\"selection\"][i] = timeMeasure\n",
    "        print(f\"algo = selection => --> {i} <-- Time --> : {timeMeasure} miliS\")\n"
   ]
  },
  {
   "cell_type": "code",
   "execution_count": null,
   "metadata": {},
   "outputs": [
    {
     "name": "stdout",
     "output_type": "stream",
     "text": [
      "algo = bubble => --> 100 <-- Time --> : 2.22 miliS\n",
      "algo = insertion => --> 100 <-- Time --> : 0.85 miliS\n",
      "algo = selection => --> 100 <-- Time --> : 0.53 miliS\n",
      "algo = bubble => --> 300 <-- Time --> : 8.88 miliS\n",
      "algo = insertion => --> 300 <-- Time --> : 2.35 miliS\n",
      "algo = selection => --> 300 <-- Time --> : 2.15 miliS\n",
      "algo = bubble => --> 500 <-- Time --> : 15.81 miliS\n",
      "algo = insertion => --> 500 <-- Time --> : 9.04 miliS\n",
      "algo = selection => --> 500 <-- Time --> : 6.75 miliS\n",
      "algo = bubble => --> 700 <-- Time --> : 32.76 miliS\n",
      "algo = insertion => --> 700 <-- Time --> : 15.14 miliS\n",
      "algo = selection => --> 700 <-- Time --> : 13.48 miliS\n",
      "algo = bubble => --> 900 <-- Time --> : 55.85 miliS\n",
      "algo = insertion => --> 900 <-- Time --> : 28.19 miliS\n",
      "algo = selection => --> 900 <-- Time --> : 23.24 miliS\n",
      "algo = bubble => --> 1100 <-- Time --> : 82.86 miliS\n",
      "algo = insertion => --> 1100 <-- Time --> : 36.71 miliS\n",
      "algo = selection => --> 1100 <-- Time --> : 31.64 miliS\n",
      "algo = bubble => --> 1300 <-- Time --> : 109.57 miliS\n",
      "algo = insertion => --> 1300 <-- Time --> : 54.95 miliS\n",
      "algo = selection => --> 1300 <-- Time --> : 44.17 miliS\n",
      "algo = bubble => --> 1500 <-- Time --> : 144.26 miliS\n",
      "algo = insertion => --> 1500 <-- Time --> : 69.8 miliS\n",
      "algo = selection => --> 1500 <-- Time --> : 56.2 miliS\n",
      "algo = bubble => --> 1700 <-- Time --> : 188.6 miliS\n",
      "algo = insertion => --> 1700 <-- Time --> : 86.3 miliS\n",
      "algo = selection => --> 1700 <-- Time --> : 72.05 miliS\n",
      "algo = bubble => --> 1900 <-- Time --> : 243.83 miliS\n",
      "algo = insertion => --> 1900 <-- Time --> : 113.91 miliS\n",
      "algo = selection => --> 1900 <-- Time --> : 95.2 miliS\n",
      "algo = bubble => --> 2100 <-- Time --> : 296.07 miliS\n",
      "algo = insertion => --> 2100 <-- Time --> : 138.85 miliS\n",
      "algo = selection => --> 2100 <-- Time --> : 112.72 miliS\n",
      "algo = bubble => --> 2300 <-- Time --> : 358.89 miliS\n",
      "algo = insertion => --> 2300 <-- Time --> : 184.09 miliS\n",
      "algo = selection => --> 2300 <-- Time --> : 134.1 miliS\n",
      "algo = bubble => --> 2500 <-- Time --> : 417.28 miliS\n",
      "algo = insertion => --> 2500 <-- Time --> : 207.31 miliS\n",
      "algo = selection => --> 2500 <-- Time --> : 155.26 miliS\n",
      "algo = bubble => --> 2700 <-- Time --> : 506.2 miliS\n",
      "algo = insertion => --> 2700 <-- Time --> : 222.52 miliS\n",
      "algo = selection => --> 2700 <-- Time --> : 198.57 miliS\n",
      "algo = bubble => --> 2900 <-- Time --> : 569.27 miliS\n",
      "algo = insertion => --> 2900 <-- Time --> : 256.62 miliS\n",
      "algo = selection => --> 2900 <-- Time --> : 212.43 miliS\n",
      "algo = bubble => --> 3100 <-- Time --> : 840.6 miliS\n",
      "algo = insertion => --> 3100 <-- Time --> : 366.73 miliS\n",
      "algo = selection => --> 3100 <-- Time --> : 296.36 miliS\n",
      "algo = bubble => --> 3300 <-- Time --> : 840.0 miliS\n",
      "algo = insertion => --> 3300 <-- Time --> : 468.84 miliS\n",
      "algo = selection => --> 3300 <-- Time --> : 295.21 miliS\n",
      "algo = bubble => --> 3500 <-- Time --> : 835.3 miliS\n",
      "algo = insertion => --> 3500 <-- Time --> : 426.02 miliS\n",
      "algo = selection => --> 3500 <-- Time --> : 311.66 miliS\n",
      "algo = bubble => --> 3700 <-- Time --> : 937.92 miliS\n",
      "algo = insertion => --> 3700 <-- Time --> : 485.84 miliS\n",
      "algo = selection => --> 3700 <-- Time --> : 357.74 miliS\n",
      "algo = bubble => --> 3900 <-- Time --> : 1122.47 miliS\n",
      "algo = insertion => --> 3900 <-- Time --> : 573.96 miliS\n",
      "algo = selection => --> 3900 <-- Time --> : 423.39 miliS\n",
      "algo = bubble => --> 4100 <-- Time --> : 1283.46 miliS\n",
      "algo = insertion => --> 4100 <-- Time --> : 637.46 miliS\n",
      "algo = selection => --> 4100 <-- Time --> : 467.45 miliS\n",
      "algo = bubble => --> 4300 <-- Time --> : 1429.41 miliS\n",
      "algo = insertion => --> 4300 <-- Time --> : 641.27 miliS\n",
      "algo = selection => --> 4300 <-- Time --> : 530.6 miliS\n",
      "algo = bubble => --> 4500 <-- Time --> : 1492.26 miliS\n",
      "algo = insertion => --> 4500 <-- Time --> : 762.65 miliS\n",
      "algo = selection => --> 4500 <-- Time --> : 730.85 miliS\n"
     ]
    }
   ],
   "source": [
    "timeDict = {\n",
    "    \"bubble\":{},\n",
    "    \"insertion\": {},\n",
    "    \"selection\": {}\n",
    "}        \n",
    "\n",
    "timeStudy(timeDict)"
   ]
  },
  {
   "cell_type": "code",
   "execution_count": 18,
   "metadata": {},
   "outputs": [
    {
     "data": {
      "text/plain": [
       "{'bubble': {100: 2.1,\n",
       "  300: 6.45,\n",
       "  500: 16.39,\n",
       "  700: 32.19,\n",
       "  900: 56.57,\n",
       "  1100: 84.79,\n",
       "  1300: 134.1,\n",
       "  1500: 155.81,\n",
       "  1700: 197.17,\n",
       "  1900: 250.79},\n",
       " 'insertion': {100: 0.5,\n",
       "  300: 3.82,\n",
       "  500: 8.21,\n",
       "  700: 16.31,\n",
       "  900: 24.46,\n",
       "  1100: 39.06,\n",
       "  1300: 57.41,\n",
       "  1500: 77.34,\n",
       "  1700: 99.46,\n",
       "  1900: 118.15},\n",
       " 'selection': {100: 0.44,\n",
       "  300: 2.3,\n",
       "  500: 6.81,\n",
       "  700: 12.13,\n",
       "  900: 21.86,\n",
       "  1100: 33.62,\n",
       "  1300: 44.22,\n",
       "  1500: 58.04,\n",
       "  1700: 74.55,\n",
       "  1900: 93.2}}"
      ]
     },
     "execution_count": 18,
     "metadata": {},
     "output_type": "execute_result"
    }
   ],
   "source": [
    "timeDict"
   ]
  },
  {
   "cell_type": "code",
   "execution_count": null,
   "metadata": {},
   "outputs": [],
   "source": [
    "res = % timeit "
   ]
  },
  {
   "cell_type": "code",
   "execution_count": 57,
   "metadata": {},
   "outputs": [],
   "source": [
    "def plotComplexity(sizes,timesB,timesI,timesS):\n",
    "    \"\"\"\n",
    "    Plot la comparaison des performances en termes de temps des 3 différents algos\n",
    "    \"\"\"\n",
    "    plt.style.use('ggplot')\n",
    "    fig, ax = plt.subplots(1, 1, tight_layout=True, figsize=(6,4))\n",
    "\n",
    "    ax.set_title(\"Performance en terme de temps\")\n",
    "    ax.set_xlabel(\"Taille de tableau\")\n",
    "    ax.set_ylabel(\"Temps (mili s)\")\n",
    "\n",
    "    ax.plot(sizes,timesB,label='Bubble')\n",
    "    ax.plot(sizes,timesI,label='Insertion')\n",
    "    ax.plot(sizes,timesS,label='Selection')\n",
    "\n",
    "    handles, labels = ax.get_legend_handles_labels()    \n",
    "    ax.legend(handles=handles,     # The line objects #ax.legend si légende dans le graphe, fig.legend en-dehors\n",
    "               ncol=1, \n",
    "               labels=labels,   # The labels for each line\n",
    "               loc=\"upper left\",   # Position of legend : lower center\n",
    "               borderaxespad=0.1    # Small spacing around legend box\n",
    "    #              title=\"Legend\"  # Title for the legend\n",
    "               )"
   ]
  },
  {
   "cell_type": "code",
   "execution_count": 58,
   "metadata": {},
   "outputs": [
    {
     "data": {
      "image/png": "[encoded data removed]",
      "text/plain": [
       "<Figure size 600x400 with 1 Axes>"
      ]
     },
     "metadata": {},
     "output_type": "display_data"
    }
   ],
   "source": [
    "N = list(timeDict[list(timeDict.keys())[0]].keys())\n",
    "bubbleList = list(timeDict[list(timeDict.keys())[0]].values())\n",
    "insertionList = list(timeDict[list(timeDict.keys())[1]].values())\n",
    "selectionList = list(timeDict[list(timeDict.keys())[2]].values())\n",
    "plotComplexity(N, bubbleList, insertionList, selectionList)"
   ]
  },
  {
   "cell_type": "code",
   "execution_count": null,
   "metadata": {},
   "outputs": [],
   "source": []
  }
 ],
 "metadata": {
  "kernelspec": {
   "display_name": "Python 3 (ipykernel)",
   "language": "python",
   "name": "python3"
  },
  "language_info": {
   "codemirror_mode": {
    "name": "ipython",
    "version": 3
   },
   "file_extension": ".py",
   "mimetype": "text/x-python",
   "name": "python",
   "nbconvert_exporter": "python",
   "pygments_lexer": "ipython3",
   "version": "3.9.13"
  }
 },
 "nbformat": 4,
 "nbformat_minor": 4
}
