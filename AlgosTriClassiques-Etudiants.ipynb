{
 "cells": [
  {
   "cell_type": "markdown",
   "metadata": {},
   "source": [
    "# 0 Mise en place des fonctions de travail "
   ]
  },
  {
   "cell_type": "code",
   "execution_count": 14,
   "metadata": {},
   "outputs": [],
   "source": [
    "import random\n",
    "\n",
    "def u_array(debug=False, N=21):\n",
    "    \"\"\"\n",
    "    Retourne un tableau non trie avec des valeur de 1 <= i < N .\n",
    "    Par defaut un tableau  1 <= i < 21\n",
    "    \n",
    "    Pour tester vos algorithmes, vous pouvez passer l'argument debug=True\n",
    "    dans ce cas, l'algorithme vous donne toujour le meme tableau :\n",
    "    \n",
    "    [3, 9, 7, 1, 6, 2, 8, 4, 5]\n",
    "    \n",
    "    \"\"\"\n",
    "    if debug:\n",
    "        return [3, 9, 7, 1, 6, 2, 8, 4, 5]\n",
    "    \n",
    "    array = list(range(1,N))\n",
    "    random.shuffle(array)\n",
    "\n",
    "    return array"
   ]
  },
  {
   "cell_type": "code",
   "execution_count": 13,
   "metadata": {},
   "outputs": [
    {
     "name": "stdout",
     "output_type": "stream",
     "text": [
      "[20, 17, 12, 8, 7, 18, 6, 5, 13, 19, 3, 10, 16, 15, 14, 2, 1, 9, 11, 4]\n",
      "[3, 9, 7, 1, 6, 2, 8, 4, 5]\n",
      "[5, 11, 24, 30, 13, 3, 4, 23, 28, 22, 6, 15, 19, 27, 29, 9, 26, 2, 17, 20, 25, 18, 16, 12, 10, 14, 8, 21, 1, 7]\n"
     ]
    }
   ],
   "source": [
    "# Exemple d'utilisation de la fonction precedente\n",
    "\n",
    "print(u_array()) # Retourne un tableau avec des nombres naturels allant de 1 a 20\n",
    "print(u_array(True)) # Retourne le tableau [3, 9, 7, 1, 6, 2, 8, 4, 5]\n",
    "print(u_array(N=31)) # Des nombres naturels allant de 1 a 30"
   ]
  },
  {
   "cell_type": "code",
   "execution_count": 22,
   "metadata": {},
   "outputs": [],
   "source": [
    "def swap(A, i, j):\n",
    "    \"\"\"Helper function to swap elements i and j of list A.\"\"\"\n",
    "    raise NotImplementedError"
   ]
  },
  {
   "cell_type": "markdown",
   "metadata": {},
   "source": [
    "# 1 Les tris classiques "
   ]
  },
  {
   "cell_type": "markdown",
   "metadata": {},
   "source": [
    "## 1.1 Tri à bulles"
   ]
  },
  {
   "cell_type": "markdown",
   "metadata": {},
   "source": [
    "**Un pseudocode possible** *(source : Wikipedia)*\n",
    "\n",
    "```\n",
    "procedure tri_à_bulles(Tableau T)\n",
    "   pour i allant de (taille de T)-1 à 1\n",
    "       pour j allant de 0 à i-1\n",
    "           si T[j+1] < T[j] alors\n",
    "               échanger(T[j+1], T[j])\n",
    "       fin pour\n",
    "   fin pour\n",
    "        \n",
    "```"
   ]
  },
  {
   "cell_type": "code",
   "execution_count": 20,
   "metadata": {},
   "outputs": [],
   "source": [
    "def bubble(A):\n",
    "    \"\"\"\n",
    "    les grands valeurs remontent aux derniers position du tableau\n",
    "    comme des bulles d'air dans l'eau\n",
    "    \"\"\"\n",
    "    raise NotImplementedError"
   ]
  },
  {
   "cell_type": "code",
   "execution_count": 141,
   "metadata": {},
   "outputs": [
    {
     "data": {
      "text/plain": [
       "[1, 2, 3, 4, 5, 6, 7, 8, 9, 10, 11, 12, 13, 14, 15, 16, 17, 18, 19, 20]"
      ]
     },
     "execution_count": 141,
     "metadata": {},
     "output_type": "execute_result"
    }
   ],
   "source": [
    "bubble(u_array())"
   ]
  },
  {
   "cell_type": "markdown",
   "metadata": {},
   "source": [
    "## 1.2 Insertion"
   ]
  },
  {
   "cell_type": "markdown",
   "metadata": {},
   "source": [
    "**Un pseudocode possible** *(source : Wikipedia)*\n",
    "\n",
    "```\n",
    "procédure tri_insertion(tableau T, entier n)\n",
    "\n",
    "  pour i de 1 à n - 1\n",
    "        # mémoriser T[i] dans x\n",
    "        x ← T[i]                            \n",
    "\n",
    "        j ← i                               \n",
    "        tant que j > 0 et T[j - 1] > x\n",
    "                 T[j] ← T[j - 1]\n",
    "                 j ← j - 1\n",
    "\n",
    "        # placer x dans le \"trou\" laissé par le décalage\n",
    "        T[j] ← x \n",
    "```"
   ]
  },
  {
   "cell_type": "code",
   "execution_count": 25,
   "metadata": {},
   "outputs": [],
   "source": [
    "def insertion(A):\n",
    "    \"\"\"\n",
    "    on cherche la place ou va etre positionne l'i_eme element \n",
    "    \"\"\"\n",
    "    raise NotImplementedError\n"
   ]
  },
  {
   "cell_type": "code",
   "execution_count": 26,
   "metadata": {},
   "outputs": [
    {
     "data": {
      "text/plain": [
       "[1, 2, 3, 4, 5, 6, 7, 8, 9, 10, 11, 12, 13, 14, 15, 16, 17, 18, 19, 20]"
      ]
     },
     "execution_count": 26,
     "metadata": {},
     "output_type": "execute_result"
    }
   ],
   "source": [
    "insertion(u_array())"
   ]
  },
  {
   "cell_type": "markdown",
   "metadata": {},
   "source": [
    "## 1.3 Selection"
   ]
  },
  {
   "cell_type": "markdown",
   "metadata": {},
   "source": [
    "**Un pseudocode possible** *(source : Wikipedia)*\n",
    "\n",
    "```\n",
    "procédure tri_selection(tableau t, entier n)\n",
    "  pour i de 0 à n - 2\n",
    "      min ← i       \n",
    "      pour j de i + 1 à n - 1\n",
    "          si t[j] < t[min], alors min ← j\n",
    "      fin pour\n",
    "      si min ≠ i, alors échanger t[i] et t[min]\n",
    "  fin pour\n",
    "fin procédure\n",
    "```"
   ]
  },
  {
   "cell_type": "code",
   "execution_count": 28,
   "metadata": {},
   "outputs": [],
   "source": [
    "def selection(A):\n",
    "    \"\"\"\n",
    "    on cherche l'element qui doit se placer a l'i_eme place\n",
    "    \"\"\"\n",
    "    raise NotImplementedError"
   ]
  },
  {
   "cell_type": "code",
   "execution_count": 29,
   "metadata": {},
   "outputs": [
    {
     "data": {
      "text/plain": [
       "[1, 2, 3, 4, 5, 6, 7, 8, 9, 10, 11, 12, 13, 14, 15, 16, 17, 18, 19, 20]"
      ]
     },
     "execution_count": 29,
     "metadata": {},
     "output_type": "execute_result"
    }
   ],
   "source": [
    "selection(u_array())"
   ]
  }
 ],
 "metadata": {
  "kernelspec": {
   "display_name": "Python 3 (ipykernel)",
   "language": "python",
   "name": "python3"
  },
  "language_info": {
   "codemirror_mode": {
    "name": "ipython",
    "version": 3
   },
   "file_extension": ".py",
   "mimetype": "text/x-python",
   "name": "python",
   "nbconvert_exporter": "python",
   "pygments_lexer": "ipython3",
   "version": "3.8.16"
  }
 },
 "nbformat": 4,
 "nbformat_minor": 4
}
