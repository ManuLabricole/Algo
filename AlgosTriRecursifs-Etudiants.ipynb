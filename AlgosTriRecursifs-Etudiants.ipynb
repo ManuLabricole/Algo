{
 "cells": [
  {
   "cell_type": "markdown",
   "metadata": {},
   "source": [
    "# 1 Mise en place des fonctions de travail "
   ]
  },
  {
   "cell_type": "code",
   "execution_count": 6,
   "metadata": {},
   "outputs": [
    {
     "name": "stdout",
     "output_type": "stream",
     "text": [
      "The line_profiler extension is already loaded. To reload it, use:\n",
      "  %reload_ext line_profiler\n"
     ]
    }
   ],
   "source": [
    "import random\n",
    "import random\n",
    "import timeit\n",
    "import matplotlib.pyplot as plt\n",
    "import numpy as np\n",
    "from statsmodels.nonparametric.kernel_regression import KernelReg\n",
    "\n",
    "# Import new magic commands\n",
    "%load_ext line_profiler\n",
    "\n",
    "def u_array(debug=False, N=21):\n",
    "    \"\"\"\n",
    "    Retourne un tableau non trie avec des valeur de 1 <= i < N .\n",
    "    Par defaut un tableau  1 <= i < 21\n",
    "    \n",
    "    Pour tester vos algorithmes, vous pouvez passer l'argument debug=True\n",
    "    dans ce cas, l'algorithme vous donne toujour le meme tableau :\n",
    "    \n",
    "    [3, 9, 7, 1, 6, 2, 8, 4, 5]\n",
    "    \n",
    "    \"\"\"\n",
    "    if debug:\n",
    "        return [3, 9, 7, 1, 6, 2, 8, 4, 5, 10]\n",
    "    \n",
    "    array = list(range(1,N))\n",
    "    random.shuffle(array)\n",
    "\n",
    "    return array"
   ]
  },
  {
   "cell_type": "code",
   "execution_count": 3,
   "metadata": {},
   "outputs": [],
   "source": [
    "def swap(A, i, j):\n",
    "    A[i], A[j] = A[j], A[i]\n",
    "    \n",
    "def is_sorted(A:list) -> bool:\n",
    "    is_sorted=True\n",
    "    for i in range(0, len(A)-1):\n",
    "        if not A[i+1] > A[i]:\n",
    "            is_sorted=False\n",
    "    return is_sorted"
   ]
  },
  {
   "cell_type": "markdown",
   "metadata": {},
   "source": [
    "# 2 Les tris recursif "
   ]
  },
  {
   "cell_type": "markdown",
   "metadata": {},
   "source": [
    "## 2.1 Tri quick sort"
   ]
  },
  {
   "cell_type": "code",
   "execution_count": 1,
   "metadata": {},
   "outputs": [
    {
     "data": {
      "image/jpeg": "[encoded data removed]",
      "text/html": [
       "\n",
       "        <iframe\n",
       "            width=\"900\"\n",
       "            height=\"600\"\n",
       "            src=\"https://www.youtube.com/embed/ywWBy6J5gz8\"\n",
       "            frameborder=\"0\"\n",
       "            allowfullscreen\n",
       "            \n",
       "        ></iframe>\n",
       "        "
      ],
      "text/plain": [
       "<IPython.lib.display.YouTubeVideo at 0x7f9601be7910>"
      ]
     },
     "execution_count": 1,
     "metadata": {},
     "output_type": "execute_result"
    }
   ],
   "source": [
    "from IPython.display import YouTubeVideo\n",
    "\n",
    "YouTubeVideo('ywWBy6J5gz8', height=600, width=900)"
   ]
  },
  {
   "cell_type": "markdown",
   "metadata": {},
   "source": [
    "**Un pseudocode possible** \n",
    "\n",
    "```\n",
    "tri_rapide(tableau T, entier nb):\n",
    "    tri_rapide_recursif(T,0,nb-1)\n",
    "    \n",
    "    ex tri_rapide_recursif(A, 0, 10)\n",
    "\n",
    "\n",
    "tri_rapide_recursif(tableau T, entier premier, entier dernier)\n",
    "    \n",
    "    premier = 0\n",
    "    dernier = 10\n",
    "    A\n",
    "    \n",
    "    si premier < dernier alors\n",
    "        pivot := partitionner(T, premier, dernier)\n",
    "        \n",
    "        ex : partionner(A, 0, 10) -> pivot\n",
    "        \n",
    "        tri_rapide_recursif(T, premier, pivot-1)\n",
    "        tri_rapide_recursif(T, pivot+1, dernier)\n",
    "    fin si\n",
    "\n",
    "\n",
    "partitionner(tableau T, entier premier, entier dernier)\n",
    "\n",
    "    on recoit : A, 0 et 10\n",
    "\n",
    "    pivot := T[premier] --> A[0]\n",
    "    i := premier = 0\n",
    "    j := dernier = 10\n",
    "    \n",
    "    tant que i <= j faire\n",
    "        si T[i] <= pivot alors \n",
    "            i := i+1\n",
    "        sinon\n",
    "            si T[j] > pivot alors\n",
    "                j := j-1 \n",
    "            sinon\n",
    "                echanger(T[i],T[j])\n",
    "            finsi \n",
    "        finsi\n",
    "    fin tant que\n",
    "    echanger(t[first],t[j])\n",
    "    \n",
    "    retourner j      \n",
    "```"
   ]
  },
  {
   "cell_type": "code",
   "execution_count": 63,
   "metadata": {},
   "outputs": [],
   "source": [
    "def quick_sort(A):\n",
    "    iteration = 0\n",
    "    print(A)\n",
    "    quick_sort_r(A, 0, len(A)-1, iteration)\n",
    "    print(A)\n",
    "\n",
    "def quick_sort_r(A, first, last, iteration):\n",
    "    # print(f\"Called recursive with : {A} - first --> {first} <-- last --> {last} <-- \")\n",
    "    #print(f\"Iteration n° {iteration}\")\n",
    "    iteration += 1\n",
    "    # On compare les indices envoyé\n",
    "    # En premier lieu, les indices recus sont 0 et len()-a\n",
    "    # Si len()-1 = 0 on a donc une liste de taille 1 et il n'y a rien a faire\n",
    "\n",
    "\n",
    "    if first < last:\n",
    "        # Si mes indices et j verifient i < j\n",
    "        #\n",
    "        \n",
    "        pivot = partition(A, first, last)\n",
    "        quick_sort_r(A, first, pivot-1, iteration)\n",
    "        quick_sort_r(A, pivot+1, last, iteration)\n",
    "    # else:\n",
    "        # print(f\"{last} < {first}\")\n",
    "        \n",
    "def partition(A, first, last):\n",
    "    # Apres avoir validé : i < j\n",
    "    # On calcule le pivot\n",
    "    pivot = A[first]\n",
    "    # print(f\"The pivot is --> {pivot} <--\")\n",
    "    i = first\n",
    "    j = last\n",
    "    \n",
    "    # Je balaye a partir de mon pivot car au debut i = first et pivot = A[first]\n",
    "    while i <= j:\n",
    "        # Si l'indice a[i] est inferieur au pivot, il est a la bonne place ie, entre l'indice du pivot et i\n",
    "        if A[i] <= pivot:\n",
    "            i += 1\n",
    "        else:\n",
    "            # Mais s'il est plus grand, sont indices devrait etre entre i et j, on le change bde place\n",
    "            # Si a[j] > pivot, il est la bonne place\n",
    "            # On peut donc le laisser ici, ocnsierer que c'est ok\n",
    "            # On reduit j pour rapprocher de i et finir l algo\n",
    "            if A[j] > pivot:\n",
    "                j -= 1\n",
    "            else:\n",
    "                A[i], A[j] = A[j], A[i]\n",
    "    # Maintenant qu'on a classer tout les < pivot entre pivot et i\n",
    "    # Tous les > p entre i et +\n",
    "    # Il faut positioner le pivot entre ces deux partitions\n",
    "    # Note : J dimininue si > stric. Donc au dela de j on est ok. = a j on est plus petit\n",
    "    \n",
    "    A[first], A[j] = A[j], A[first]\n",
    "    # print(f\"----> The new table after sorting around pivot {pivot} --> {A}\")\n",
    "    return j\n",
    "    \n",
    "    \n",
    "    \n",
    "    \n",
    "    \n",
    "    \n",
    "    "
   ]
  },
  {
   "cell_type": "code",
   "execution_count": 64,
   "metadata": {},
   "outputs": [
    {
     "name": "stdout",
     "output_type": "stream",
     "text": [
      "[500, 173, 852, 142, 21, 749, 248, 67, 171, 798, 773, 398, 640, 701, 462, 100, 781, 594, 338, 523, 136, 174, 687, 306, 961, 919, 181, 839, 326, 766, 862, 558, 351, 341, 329, 325, 349, 750, 265, 271, 735, 79, 73, 316, 197, 434, 627, 17, 227, 247, 914, 124, 681, 293, 396, 769, 572, 441, 837, 495, 632, 114, 145, 939, 238, 259, 378, 962, 332, 728, 224, 118, 483, 659, 457, 455, 513, 58, 847, 403, 274, 185, 595, 893, 738, 489, 940, 218, 740, 195, 39, 877, 203, 291, 897, 345, 628, 804, 620, 22, 418, 797, 825, 744, 936, 429, 538, 41, 565, 445, 499, 463, 892, 840, 393, 209, 614, 793, 59, 618, 588, 970, 575, 577, 806, 210, 924, 365, 842, 331, 823, 689, 636, 6, 886, 461, 525, 284, 737, 815, 536, 691, 412, 443, 421, 757, 563, 477, 264, 726, 967, 916, 546, 898, 850, 205, 991, 219, 53, 121, 465, 679, 508, 290, 615, 386, 869, 767, 709, 807, 200, 246, 547, 346, 48, 902, 143, 176, 965, 45, 698, 152, 883, 401, 302, 700, 712, 422, 814, 578, 60, 795, 353, 207, 779, 599, 37, 198, 268, 354, 372, 901, 739, 871, 51, 677, 882, 509, 510, 819, 120, 358, 5, 239, 64, 803, 261, 430, 541, 571, 519, 270, 697, 456, 648, 913, 826, 903, 637, 562, 469, 900, 240, 235, 969, 603, 481, 521, 994, 972, 55, 938, 478, 912, 296, 119, 947, 782, 75, 592, 366, 8, 887, 267, 598, 660, 718, 363, 896, 275, 831, 486, 33, 976, 70, 608, 996, 381, 723, 496, 35, 796, 438, 222, 16, 11, 405, 597, 973, 990, 492, 658, 860, 166, 556, 870, 163, 460, 395, 111, 269, 746, 527, 929, 528, 894, 997, 891, 168, 104, 550, 827, 46, 670, 503, 669, 31, 586, 589, 548, 472, 835, 688, 103, 989, 765, 790, 610, 813, 167, 794, 792, 600, 694, 125, 868, 612, 845, 501, 752, 255, 133, 151, 771, 899, 431, 81, 569, 402, 165, 310, 375, 780, 273, 683, 313, 490, 206, 450, 888, 856, 742, 724, 183, 234, 382, 560, 427, 630, 515, 43, 217, 138, 14, 13, 153, 387, 801, 50, 308, 791, 243, 753, 117, 734, 376, 855, 144, 613, 250, 993, 934, 158, 992, 927, 917, 756, 122, 736, 394, 215, 324, 334, 623, 596, 998, 634, 66, 907, 91, 836, 38, 518, 533, 543, 161, 653, 232, 282, 54, 140, 147, 347, 981, 242, 276, 154, 408, 453, 362, 625, 414, 297, 212, 601, 553, 108, 169, 420, 906, 318, 821, 249, 447, 708, 451, 580, 454, 487, 711, 655, 987, 439, 319, 189, 895, 768, 535, 132, 397, 843, 480, 437, 425, 208, 47, 960, 106, 542, 606, 838, 676, 915, 905, 96, 863, 493, 1, 61, 943, 221, 668, 305, 920, 950, 810, 187, 574, 236, 294, 428, 964, 309, 90, 352, 303, 479, 933, 931, 671, 717, 706, 675, 663, 573, 40, 861, 23, 426, 733, 584, 498, 188, 95, 34, 699, 62, 540, 377, 42, 99, 98, 442, 579, 278, 532, 27, 404, 128, 874, 193, 551, 758, 342, 336, 696, 690, 105, 204, 816, 488, 727, 741, 875, 937, 876, 150, 251, 134, 85, 873, 715, 857, 604, 880, 344, 497, 202, 786, 834, 130, 93, 410, 245, 748, 77, 591, 494, 958, 537, 83, 946, 315, 295, 506, 411, 76, 7, 504, 984, 214, 951, 164, 881, 722, 379, 644, 348, 159, 576, 641, 829, 84, 223, 719, 581, 272, 65, 514, 390, 260, 710, 770, 822, 721, 473, 415, 446, 654, 585, 369, 88, 975, 966, 444, 285, 942, 337, 69, 482, 452, 702, 476, 583, 199, 474, 416, 320, 78, 760, 985, 622, 392, 475, 333, 764, 380, 97, 703, 593, 864, 955, 448, 680, 15, 220, 616, 761, 759, 407, 146, 570, 878, 139, 788, 361, 854, 879, 471, 865, 645, 279, 459, 201, 464, 607, 959, 107, 776, 391, 833, 662, 918, 26, 799, 866, 71, 684, 357, 720, 491, 775, 639, 851, 190, 778, 170, 230, 280, 828, 307, 785, 399, 545, 314, 156, 529, 808, 175, 277, 186, 287, 617, 512, 602, 848, 982, 858, 930, 262, 3, 317, 979, 109, 157, 685, 763, 371, 228, 244, 367, 587, 9, 635, 115, 116, 182, 846, 772, 28, 952, 926, 196, 80, 127, 619, 74, 383, 948, 534, 995, 566, 423, 554, 384, 350, 389, 762, 980, 664, 885, 859, 511, 754, 988, 18, 458, 385, 179, 340, 419, 678, 29, 971, 148, 172, 283, 817, 94, 266, 830, 818, 657, 12, 229, 629, 516, 339, 849, 4, 359, 435, 72, 417, 19, 928, 732, 409, 841, 254, 129, 693, 704, 364, 49, 957, 789, 555, 872, 867, 631, 561, 968, 289, 667, 582, 941, 624, 725, 609, 82, 370, 406, 944, 226, 373, 68, 911, 665, 368, 374, 652, 281, 89, 505, 559, 909, 549, 642, 800, 388, 923, 101, 954, 730, 633, 844, 714, 131, 360, 113, 162, 123, 225, 216, 707, 526, 666, 651, 922, 432, 211, 705, 809, 805, 328, 184, 820, 87, 468, 155, 25, 643, 557, 63, 692, 673, 321, 890, 191, 56, 783, 774, 286, 921, 252, 484, 355, 288, 552, 590, 531, 241, 330, 621, 626, 436, 466, 787, 57, 682, 424, 141, 747, 949, 32, 977, 908, 686, 904, 983, 311, 86, 974, 647, 649, 517, 312, 149, 963, 656, 564, 292, 544, 160, 44, 910, 253, 672, 10, 102, 661, 811, 335, 92, 611, 263, 400, 301, 925, 802, 784, 135, 824, 178, 986, 853, 258, 568, 304, 777, 520, 524, 440, 674, 112, 751, 110, 567, 889, 2, 638, 953, 213, 177, 743, 745, 945, 646, 812, 485, 935, 343, 502, 530, 605, 237, 507, 755, 137, 20, 731, 299, 884, 999, 470, 322, 256, 449, 539, 356, 300, 650, 467, 36, 257, 194, 323, 298, 192, 978, 729, 695, 180, 832, 433, 327, 233, 52, 956, 413, 231, 932, 30, 126, 713, 24, 522, 716]\n",
      "[1, 2, 3, 4, 5, 6, 7, 8, 9, 10, 11, 12, 13, 14, 15, 16, 17, 18, 19, 20, 21, 22, 23, 24, 25, 26, 27, 28, 29, 30, 31, 32, 33, 34, 35, 36, 37, 38, 39, 40, 41, 42, 43, 44, 45, 46, 47, 48, 49, 50, 51, 52, 53, 54, 55, 56, 57, 58, 59, 60, 61, 62, 63, 64, 65, 66, 67, 68, 69, 70, 71, 72, 73, 74, 75, 76, 77, 78, 79, 80, 81, 82, 83, 84, 85, 86, 87, 88, 89, 90, 91, 92, 93, 94, 95, 96, 97, 98, 99, 100, 101, 102, 103, 104, 105, 106, 107, 108, 109, 110, 111, 112, 113, 114, 115, 116, 117, 118, 119, 120, 121, 122, 123, 124, 125, 126, 127, 128, 129, 130, 131, 132, 133, 134, 135, 136, 137, 138, 139, 140, 141, 142, 143, 144, 145, 146, 147, 148, 149, 150, 151, 152, 153, 154, 155, 156, 157, 158, 159, 160, 161, 162, 163, 164, 165, 166, 167, 168, 169, 170, 171, 172, 173, 174, 175, 176, 177, 178, 179, 180, 181, 182, 183, 184, 185, 186, 187, 188, 189, 190, 191, 192, 193, 194, 195, 196, 197, 198, 199, 200, 201, 202, 203, 204, 205, 206, 207, 208, 209, 210, 211, 212, 213, 214, 215, 216, 217, 218, 219, 220, 221, 222, 223, 224, 225, 226, 227, 228, 229, 230, 231, 232, 233, 234, 235, 236, 237, 238, 239, 240, 241, 242, 243, 244, 245, 246, 247, 248, 249, 250, 251, 252, 253, 254, 255, 256, 257, 258, 259, 260, 261, 262, 263, 264, 265, 266, 267, 268, 269, 270, 271, 272, 273, 274, 275, 276, 277, 278, 279, 280, 281, 282, 283, 284, 285, 286, 287, 288, 289, 290, 291, 292, 293, 294, 295, 296, 297, 298, 299, 300, 301, 302, 303, 304, 305, 306, 307, 308, 309, 310, 311, 312, 313, 314, 315, 316, 317, 318, 319, 320, 321, 322, 323, 324, 325, 326, 327, 328, 329, 330, 331, 332, 333, 334, 335, 336, 337, 338, 339, 340, 341, 342, 343, 344, 345, 346, 347, 348, 349, 350, 351, 352, 353, 354, 355, 356, 357, 358, 359, 360, 361, 362, 363, 364, 365, 366, 367, 368, 369, 370, 371, 372, 373, 374, 375, 376, 377, 378, 379, 380, 381, 382, 383, 384, 385, 386, 387, 388, 389, 390, 391, 392, 393, 394, 395, 396, 397, 398, 399, 400, 401, 402, 403, 404, 405, 406, 407, 408, 409, 410, 411, 412, 413, 414, 415, 416, 417, 418, 419, 420, 421, 422, 423, 424, 425, 426, 427, 428, 429, 430, 431, 432, 433, 434, 435, 436, 437, 438, 439, 440, 441, 442, 443, 444, 445, 446, 447, 448, 449, 450, 451, 452, 453, 454, 455, 456, 457, 458, 459, 460, 461, 462, 463, 464, 465, 466, 467, 468, 469, 470, 471, 472, 473, 474, 475, 476, 477, 478, 479, 480, 481, 482, 483, 484, 485, 486, 487, 488, 489, 490, 491, 492, 493, 494, 495, 496, 497, 498, 499, 500, 501, 502, 503, 504, 505, 506, 507, 508, 509, 510, 511, 512, 513, 514, 515, 516, 517, 518, 519, 520, 521, 522, 523, 524, 525, 526, 527, 528, 529, 530, 531, 532, 533, 534, 535, 536, 537, 538, 539, 540, 541, 542, 543, 544, 545, 546, 547, 548, 549, 550, 551, 552, 553, 554, 555, 556, 557, 558, 559, 560, 561, 562, 563, 564, 565, 566, 567, 568, 569, 570, 571, 572, 573, 574, 575, 576, 577, 578, 579, 580, 581, 582, 583, 584, 585, 586, 587, 588, 589, 590, 591, 592, 593, 594, 595, 596, 597, 598, 599, 600, 601, 602, 603, 604, 605, 606, 607, 608, 609, 610, 611, 612, 613, 614, 615, 616, 617, 618, 619, 620, 621, 622, 623, 624, 625, 626, 627, 628, 629, 630, 631, 632, 633, 634, 635, 636, 637, 638, 639, 640, 641, 642, 643, 644, 645, 646, 647, 648, 649, 650, 651, 652, 653, 654, 655, 656, 657, 658, 659, 660, 661, 662, 663, 664, 665, 666, 667, 668, 669, 670, 671, 672, 673, 674, 675, 676, 677, 678, 679, 680, 681, 682, 683, 684, 685, 686, 687, 688, 689, 690, 691, 692, 693, 694, 695, 696, 697, 698, 699, 700, 701, 702, 703, 704, 705, 706, 707, 708, 709, 710, 711, 712, 713, 714, 715, 716, 717, 718, 719, 720, 721, 722, 723, 724, 725, 726, 727, 728, 729, 730, 731, 732, 733, 734, 735, 736, 737, 738, 739, 740, 741, 742, 743, 744, 745, 746, 747, 748, 749, 750, 751, 752, 753, 754, 755, 756, 757, 758, 759, 760, 761, 762, 763, 764, 765, 766, 767, 768, 769, 770, 771, 772, 773, 774, 775, 776, 777, 778, 779, 780, 781, 782, 783, 784, 785, 786, 787, 788, 789, 790, 791, 792, 793, 794, 795, 796, 797, 798, 799, 800, 801, 802, 803, 804, 805, 806, 807, 808, 809, 810, 811, 812, 813, 814, 815, 816, 817, 818, 819, 820, 821, 822, 823, 824, 825, 826, 827, 828, 829, 830, 831, 832, 833, 834, 835, 836, 837, 838, 839, 840, 841, 842, 843, 844, 845, 846, 847, 848, 849, 850, 851, 852, 853, 854, 855, 856, 857, 858, 859, 860, 861, 862, 863, 864, 865, 866, 867, 868, 869, 870, 871, 872, 873, 874, 875, 876, 877, 878, 879, 880, 881, 882, 883, 884, 885, 886, 887, 888, 889, 890, 891, 892, 893, 894, 895, 896, 897, 898, 899, 900, 901, 902, 903, 904, 905, 906, 907, 908, 909, 910, 911, 912, 913, 914, 915, 916, 917, 918, 919, 920, 921, 922, 923, 924, 925, 926, 927, 928, 929, 930, 931, 932, 933, 934, 935, 936, 937, 938, 939, 940, 941, 942, 943, 944, 945, 946, 947, 948, 949, 950, 951, 952, 953, 954, 955, 956, 957, 958, 959, 960, 961, 962, 963, 964, 965, 966, 967, 968, 969, 970, 971, 972, 973, 974, 975, 976, 977, 978, 979, 980, 981, 982, 983, 984, 985, 986, 987, 988, 989, 990, 991, 992, 993, 994, 995, 996, 997, 998, 999]\n"
     ]
    }
   ],
   "source": [
    "quick_sort(u_array(False, 1000))"
   ]
  },
  {
   "cell_type": "markdown",
   "metadata": {},
   "source": [
    "## 2.2 Merge Sort"
   ]
  },
  {
   "cell_type": "code",
   "execution_count": 8,
   "metadata": {},
   "outputs": [
    {
     "data": {
      "image/jpeg": "[encoded data removed]",
      "text/html": [
       "\n",
       "        <iframe\n",
       "            width=\"900\"\n",
       "            height=\"600\"\n",
       "            src=\"https://www.youtube.com/embed/XaqR3G_NVoo\"\n",
       "            frameborder=\"0\"\n",
       "            allowfullscreen\n",
       "        ></iframe>\n",
       "        "
      ],
      "text/plain": [
       "<IPython.lib.display.YouTubeVideo at 0x1069a0bd0>"
      ]
     },
     "execution_count": 8,
     "metadata": {},
     "output_type": "execute_result"
    }
   ],
   "source": [
    "from IPython.display import YouTubeVideo\n",
    "\n",
    "YouTubeVideo('XaqR3G_NVoo', height=600, width=900)"
   ]
  },
  {
   "cell_type": "markdown",
   "metadata": {},
   "source": [
    "**Un pseudocode possible** *(source : Wikipedia)*\n",
    "\n",
    "```\n",
    "procedure tri_fusion (E/S t :Tableau[1..MAX] d’Entier,E nb :Naturel) \n",
    "debut\n",
    "    tri_fusion_recursif(t,0,nb)\n",
    "fin\n",
    "\n",
    "procedure tri_fusion_recursif (E/S t :Tableau[1..MAX] d’Entier,E d,f :Naturel) \n",
    "debut\n",
    "    si d < f - 1  alors\n",
    "        m = (d+f) div 2\n",
    "        tri_fusion_recursif(t,d, m) \n",
    "        tri_fusion_recursif(t, m+1,f) \n",
    "        fusionnner(t,d,m,f)\n",
    "    finsi\n",
    "fin\n",
    "\n",
    "procedure fusionner (E/S t : Tableau[1..MAX] d’Entier ; E debut,milieu,fin : Naturel) \n",
    "    Declaration i,j,k : Naturel,\n",
    "                 temp : Tableau[1..MAX] d’Entier\n",
    "debut\n",
    "    i ← debut\n",
    "    j ← milieu\n",
    "    pour k ← debut a fin faire\n",
    "        si i < milieu et j <fin alors \n",
    "            si t[i] <= t[j] alors\n",
    "                temp[k] ← t[i]\n",
    "                i ← i+1 \n",
    "            sinon\n",
    "                temp[k] ← t[j]\n",
    "                j ← j+1 \n",
    "            finsi\n",
    "        sinon\n",
    "            si i < milieu alors\n",
    "                temp[k] ← t[i]\n",
    "                i ← i+1 \n",
    "            sinon\n",
    "                temp[k] ← t[j]\n",
    "                j ← j+1 \n",
    "            finsi\n",
    "        finsi\n",
    "    fin pour\n",
    "    \n",
    "    pour k ← debut à fin faire \n",
    "        t[k] ← temp[k]\n",
    "    fin pour\n",
    "fin\n",
    "    \n",
    "```"
   ]
  },
  {
   "cell_type": "code",
   "execution_count": 9,
   "metadata": {},
   "outputs": [],
   "source": [
    "def merge_sort(A):\n",
    "    \"\"\"\n",
    "    l'intelligence se trouve dans la fusion des tableaux\n",
    "    \"\"\"\n",
    "    merge_sort_r(A, 0, len(A))\n",
    "    \n",
    "    raise NotImplementedError\n",
    "\n",
    "def merge_sort_r(A, start, end):\n",
    "    raise NotImplementedError\n",
    "\n",
    "def merge(A, start, middle, end):\n",
    "    raise NotImplementedError"
   ]
  },
  {
   "cell_type": "code",
   "execution_count": 148,
   "metadata": {},
   "outputs": [
    {
     "data": {
      "text/plain": [
       "[1, 2, 3, 4, 5, 6, 7, 8, 9, 10, 11, 12, 13, 14, 15, 16, 17, 18, 19, 20]"
      ]
     },
     "execution_count": 148,
     "metadata": {},
     "output_type": "execute_result"
    }
   ],
   "source": [
    "merge_sort(u_array(debug=False))"
   ]
  },
  {
   "cell_type": "markdown",
   "metadata": {},
   "source": [
    "# 3 Procedure ou fonction ?"
   ]
  },
  {
   "cell_type": "code",
   "execution_count": 150,
   "metadata": {},
   "outputs": [
    {
     "name": "stdout",
     "output_type": "stream",
     "text": [
      "4421223440\n",
      "4421223440 4423336256\n"
     ]
    }
   ],
   "source": [
    "# Python functions\n",
    "A = u_array()\n",
    "print(id(A)) \n",
    "A.sort()\n",
    "print(id(A), id(sorted(A)))"
   ]
  }
 ],
 "metadata": {
  "kernelspec": {
   "display_name": "Python 3 (ipykernel)",
   "language": "python",
   "name": "python3"
  },
  "language_info": {
   "codemirror_mode": {
    "name": "ipython",
    "version": 3
   },
   "file_extension": ".py",
   "mimetype": "text/x-python",
   "name": "python",
   "nbconvert_exporter": "python",
   "pygments_lexer": "ipython3",
   "version": "3.9.13"
  }
 },
 "nbformat": 4,
 "nbformat_minor": 4
}
